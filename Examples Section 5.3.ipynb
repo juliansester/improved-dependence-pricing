{
 "cells": [
  {
   "cell_type": "markdown",
   "metadata": {},
   "source": [
    "# Additional Market Implied Assumptions, Section 5.3."
   ]
  },
  {
   "cell_type": "markdown",
   "metadata": {},
   "source": [
    "Importing pandas, numpy and the file containing the data"
   ]
  },
  {
   "cell_type": "code",
   "execution_count": 1,
   "metadata": {},
   "outputs": [],
   "source": [
    "import pandas as pd\n",
    "import numpy as np\n",
    "import scipy as sp\n",
    "import matplotlib.pyplot as plt\n",
    "from MOT_dual_ndim2assets import opt_plan_discrete_multiasset_n\n",
    "import gurobipy as gp\n",
    "from gurobipy import GRB\n",
    "from scipy.optimize import linprog\n",
    "from scipy.stats import binom\n",
    "import itertools\n",
    "import matplotlib.pyplot as plt\n",
    "from matplotlib import rc\n",
    "from matplotlib import style\n",
    "from mpl_toolkits.mplot3d import axes3d, Axes3D\n",
    "from MOT_2dim2assets import *\n",
    "from MOT_dual_2dim2assets import *\n",
    "from MOT_ndim import *\n",
    "from Multidim_useful_functions import *\n",
    "style.use('ggplot')"
   ]
  },
  {
   "cell_type": "markdown",
   "metadata": {},
   "source": [
    "# Example 5.11"
   ]
  },
  {
   "cell_type": "markdown",
   "metadata": {},
   "source": [
    "Define Payoff Functions and Marginal Distributions"
   ]
  },
  {
   "cell_type": "code",
   "execution_count": 2,
   "metadata": {},
   "outputs": [],
   "source": [
    "# First Security\n",
    "p11 = np.repeat(1/3,3)\n",
    "v11 = [8,10,12]\n",
    "p21 = np.repeat(1/4,4)\n",
    "v21 = [7,9,11,13]\n",
    "# Second Security\n",
    "p12 = np.repeat(1/3,3)\n",
    "v12 = [8,10,12]\n",
    "p22 = np.repeat(1/5,5)\n",
    "v22 = [4,7,10,13,16]\n",
    "\n",
    "def payoff1(a,b,c,d):\n",
    "    return max((1/4)*(a+b+c+d)-10,0)\n",
    "\n",
    "def payoff2(a,b,c,d):\n",
    "    return max(10-min([a,b,c,d]),0)\n",
    "    #return (c>a)*(d>b)\n",
    "\n",
    "def payoff3(a,b,c,d):\n",
    "    return (1/4)*max(b-a,0)*max(d-c,0)\n",
    "\n",
    "def payoff4(a,b,c,d):\n",
    "    return ((c-a)/a)**2*((d-b)/b)**2\n",
    "\n",
    "def payoff5(a,b,c,d):\n",
    "    return max(((c-a)/a)*((d-b)/b),0)"
   ]
  },
  {
   "cell_type": "markdown",
   "metadata": {},
   "source": [
    "## Without Assumptions"
   ]
  },
  {
   "cell_type": "code",
   "execution_count": 10,
   "metadata": {},
   "outputs": [
    {
     "name": "stdout",
     "output_type": "stream",
     "text": [
      "No additional assumptions  \n",
      " ------------ \n",
      "0.2500 | 1.0111\n",
      "1.9611 | 3.2167 \n",
      "0.0000 | 1.9778  \n",
      "0.0012 | 0.0207 \n",
      "\n"
     ]
    }
   ],
   "source": [
    "## First Row of Table\n",
    "m12 = (opt_plan_discrete_multiasset(v11,p11,v12,p12,v21,p21,v22,p22,func=payoff1,onedim=True,minimize=True)[0])\n",
    "m13 = (opt_plan_discrete_multiasset(v11,p11,v12,p12,v21,p21,v22,p22,func=payoff1,onedim=True,minimize=False)[0])\n",
    "m12=round(m12,4)\n",
    "m13=round(m13,4)\n",
    "table_text = \"No additional assumptions  \\n ------------ \\n\" + \"{m12:.4f} | {m13:.4f}\\n\"\n",
    "\n",
    "## Next Row of Table\n",
    "m22 = (opt_plan_discrete_multiasset(v11,p11,v12,p12,v21,p21,v22,p22,func=payoff2,onedim=True,minimize=True)[0])\n",
    "m23 = (opt_plan_discrete_multiasset(v11,p11,v12,p12,v21,p21,v22,p22,func=payoff2,onedim=True,minimize=False)[0])\n",
    "m22=round(m22,4)\n",
    "m23=round(m23,4)\n",
    "table_text = table_text+\"{m22:.4f} | {m23:.4f} \\n\"\n",
    "\n",
    "## Next Row of Table\n",
    "m32 = (opt_plan_discrete_multiasset(v11,p11,v12,p12,v21,p21,v22,p22,func=payoff3,onedim=True,minimize=True)[0])\n",
    "m33 = (opt_plan_discrete_multiasset(v11,p11,v12,p12,v21,p21,v22,p22,func=payoff3,onedim=True,minimize=False)[0])\n",
    "m32=round(m32,4)\n",
    "m33=round(m33,4)\n",
    "table_text = table_text+\"{m32:.4f} | {m33:.4f}  \\n\"\n",
    "\n",
    "## Next Row of Table\n",
    "m42 = (opt_plan_discrete_multiasset(v11,p11,v12,p12,v21,p21,v22,p22,func=payoff4,onedim=True,minimize=True)[0])\n",
    "m43 = (opt_plan_discrete_multiasset(v11,p11,v12,p12,v21,p21,v22,p22,func=payoff4,onedim=True,minimize=False)[0])\n",
    "m42=round(m42,4)\n",
    "m43=round(m43,4)\n",
    "table_text = table_text+\"{m42:.4f} | {m43:.4f} \\n\"\n",
    "\n",
    "print(table_text.format(m12 =m12,m13=m13,m22=m22,m23=m23,m32=m32,m33=m33,m42=m42,m43=m43))"
   ]
  },
  {
   "cell_type": "markdown",
   "metadata": {},
   "source": [
    "## Constant Correlation\n",
    "\n",
    "We want to check for improvement through the condition that the correlation does not change over time"
   ]
  },
  {
   "cell_type": "code",
   "execution_count": 11,
   "metadata": {},
   "outputs": [
    {
     "name": "stdout",
     "output_type": "stream",
     "text": [
      "Constant Correlation \n",
      " ------------ \n",
      "0.2781 | 0.9781  \n",
      "1.9611 | 3.1980 \n",
      "0.0795 | 1.9778 \n",
      "0.0012 | 0.0207 \n",
      "\n"
     ]
    }
   ],
   "source": [
    "## First Row of Table\n",
    "m12 = (opt_plan_discrete_multiasset(v11,p11,v12,p12,v21,p21,v22,p22,func=payoff1,onedim=True,minimize=True,same_correlation = True)[0])\n",
    "m13 = (opt_plan_discrete_multiasset(v11,p11,v12,p12,v21,p21,v22,p22,func=payoff1,onedim=True,minimize=False,same_correlation = True)[0])\n",
    "m12=round(m12,4)\n",
    "m13=round(m13,4)\n",
    "table_text = \"Constant Correlation \\n ------------ \\n\" + \"{m12:.4f} | {m13:.4f}  \\n\"\n",
    "\n",
    "## First Row of Table\n",
    "m22 = (opt_plan_discrete_multiasset(v11,p11,v12,p12,v21,p21,v22,p22,func=payoff2,onedim=True,minimize=True,same_correlation = True)[0])\n",
    "m23 = (opt_plan_discrete_multiasset(v11,p11,v12,p12,v21,p21,v22,p22,func=payoff2,onedim=True,minimize=False,same_correlation = True)[0])\n",
    "m22=round(m22,4)\n",
    "m23=round(m23,4)\n",
    "table_text = table_text+\"{m22:.4f} | {m23:.4f} \\n\"\n",
    "\n",
    "## First Row of Table\n",
    "m32 = (opt_plan_discrete_multiasset(v11,p11,v12,p12,v21,p21,v22,p22,func=payoff3,onedim=True,minimize=True,same_correlation = True)[0])\n",
    "m33 = (opt_plan_discrete_multiasset(v11,p11,v12,p12,v21,p21,v22,p22,func=payoff3,onedim=True,minimize=False,same_correlation = True)[0])\n",
    "m32=round(m32,4)\n",
    "m33=round(m33,4)\n",
    "table_text = table_text+\"{m32:.4f} | {m33:.4f} \\n\"\n",
    "\n",
    "## First Row of Table\n",
    "m42 = (opt_plan_discrete_multiasset(v11,p11,v12,p12,v21,p21,v22,p22,func=payoff4,onedim=True,minimize=True,same_correlation = True)[0])\n",
    "m43 = (opt_plan_discrete_multiasset(v11,p11,v12,p12,v21,p21,v22,p22,func=payoff4,onedim=True,minimize=False,same_correlation = True)[0])\n",
    "m42=round(m42,4)\n",
    "m43=round(m43,4)\n",
    "table_text = table_text+\"{m42:.4f} | {m43:.4f} \\n\"\n",
    "\n",
    "print(table_text.format(m12 =m12,m13=m13,m22=m22,m23=m23,m32=m32,m33=m33,m42=m42,m43=m43))"
   ]
  },
  {
   "cell_type": "markdown",
   "metadata": {},
   "source": [
    "## Correlation constrained from below by -0.5\n",
    "\n",
    "We want to check for improvement through the condition the correlation is constrained from below"
   ]
  },
  {
   "cell_type": "code",
   "execution_count": 17,
   "metadata": {
    "scrolled": true
   },
   "outputs": [
    {
     "name": "stdout",
     "output_type": "stream",
     "text": [
      "Correlation lower bounded by -0.5 \n",
      " ------------ \n",
      "0.3179 | 1.0111  \n",
      "1.9611 | 3.1615 \n",
      "0.0000 | 1.9778 \n",
      "0.0012 | 0.0207  \n",
      "\n"
     ]
    }
   ],
   "source": [
    "corr_p = -0.5\n",
    "\n",
    "## First Row of Table\n",
    "m12 = (opt_plan_discrete_multiasset(v11,p11,v12,p12,v21,p21,v22,p22,func=payoff1,onedim=True,minimize=True,q_corr_greater_p_const= corr_p,q_corr_greater_p = True)[0])\n",
    "m13 = (opt_plan_discrete_multiasset(v11,p11,v12,p12,v21,p21,v22,p22,func=payoff1,onedim=True,minimize=False,q_corr_greater_p_const= corr_p,q_corr_greater_p = True)[0])\n",
    "m12=round(m12,4)\n",
    "m13=round(m13,4)\n",
    "table_text = \"Correlation lower bounded by -0.5 \\n ------------ \\n\" + \"{m12:.4f} | {m13:.4f}  \\n\"\n",
    "\n",
    "## First Row of Table\n",
    "m22 = (opt_plan_discrete_multiasset(v11,p11,v12,p12,v21,p21,v22,p22,func=payoff2,onedim=True,minimize=True,q_corr_greater_p_const= corr_p,q_corr_greater_p = True)[0])\n",
    "m23 = (opt_plan_discrete_multiasset(v11,p11,v12,p12,v21,p21,v22,p22,func=payoff2,onedim=True,minimize=False,q_corr_greater_p_const= corr_p,q_corr_greater_p = True)[0])\n",
    "m22=round(m22,4)\n",
    "m23=round(m23,4)\n",
    "table_text = table_text+\"{m22:.4f} | {m23:.4f} \\n\"\n",
    "\n",
    "## First Row of Table\n",
    "m32 = (opt_plan_discrete_multiasset(v11,p11,v12,p12,v21,p21,v22,p22,func=payoff3,onedim=True,minimize=True,q_corr_greater_p_const= corr_p,q_corr_greater_p = True)[0])\n",
    "m33 = (opt_plan_discrete_multiasset(v11,p11,v12,p12,v21,p21,v22,p22,func=payoff3,onedim=True,minimize=False,q_corr_greater_p_const= corr_p,q_corr_greater_p = True)[0])\n",
    "m32=round(m32,4)\n",
    "m33=round(m33,4)\n",
    "table_text = table_text+\"{m32:.4f} | {m33:.4f} \\n\"\n",
    "\n",
    "## First Row of Table\n",
    "m42 = (opt_plan_discrete_multiasset(v11,p11,v12,p12,v21,p21,v22,p22,func=payoff4,onedim=True,minimize=True,q_corr_greater_p_const= corr_p,q_corr_greater_p = True)[0])\n",
    "m43 = (opt_plan_discrete_multiasset(v11,p11,v12,p12,v21,p21,v22,p22,func=payoff4,onedim=True,minimize=False,q_corr_greater_p_const= corr_p,q_corr_greater_p = True)[0])\n",
    "m42=round(m42,4)\n",
    "m43=round(m43,4)\n",
    "table_text = table_text+\"{m42:.4f} | {m43:.4f}  \\n\"\n",
    "\n",
    "\n",
    "print(table_text.format(m12 =m12,m13=m13,m22=m22,m23=m23,m32=m32,m33=m33,m42=m42,m43=m43))"
   ]
  },
  {
   "cell_type": "markdown",
   "metadata": {},
   "source": [
    "## Correlation constrained from below by 0.5\n",
    "\n",
    "We want to check for improvement through the condition the correlation is constrained from below"
   ]
  },
  {
   "cell_type": "code",
   "execution_count": 16,
   "metadata": {},
   "outputs": [
    {
     "name": "stdout",
     "output_type": "stream",
     "text": [
      "Constant Correlation, lower bounded by 0.5 \n",
      " ------------ \n",
      "0.5375 | 1.0111  \n",
      "1.9611 | 2.9714 \n",
      "0.0000 | 0.8083 \n",
      "0.0012 | 0.0207  \n",
      "\n"
     ]
    }
   ],
   "source": [
    "corr_p = 0.5\n",
    "\n",
    "## First Row of Table\n",
    "m12 = (opt_plan_discrete_multiasset(v11,p11,v12,p12,v21,p21,v22,p22,func=payoff1,onedim=True,minimize=True,q_corr_greater_p_const= corr_p,q_corr_greater_p = True)[0])\n",
    "m13 = (opt_plan_discrete_multiasset(v11,p11,v12,p12,v21,p21,v22,p22,func=payoff1,onedim=True,minimize=False,q_corr_greater_p_const= corr_p,q_corr_greater_p = True)[0])\n",
    "m12=round(m12,4)\n",
    "m13=round(m13,4)\n",
    "table_text = \"Correlation lower bounded by 0.5 \\n ------------ \\n\" + \"{m12:.4f} | {m13:.4f}  \\n\"\n",
    "\n",
    "## First Row of Table\n",
    "m22 = (opt_plan_discrete_multiasset(v11,p11,v12,p12,v21,p21,v22,p22,func=payoff2,onedim=True,minimize=True,q_corr_greater_p_const= corr_p,q_corr_greater_p = True)[0])\n",
    "m23 = (opt_plan_discrete_multiasset(v11,p11,v12,p12,v21,p21,v22,p22,func=payoff2,onedim=True,minimize=False,q_corr_greater_p_const= corr_p,q_corr_greater_p = True)[0])\n",
    "m22=round(m22,4)\n",
    "m23=round(m23,4)\n",
    "table_text = table_text+\"{m22:.4f} | {m23:.4f} \\n\"\n",
    "\n",
    "## First Row of Table\n",
    "m32 = (opt_plan_discrete_multiasset(v11,p11,v12,p12,v21,p21,v22,p22,func=payoff3,onedim=True,minimize=True,q_corr_greater_p_const= corr_p,q_corr_greater_p = True)[0])\n",
    "m33 = (opt_plan_discrete_multiasset(v11,p11,v12,p12,v21,p21,v22,p22,func=payoff3,onedim=True,minimize=False,q_corr_greater_p_const= corr_p,q_corr_greater_p = True)[0])\n",
    "m32=round(m32,4)\n",
    "m33=round(m33,4)\n",
    "table_text = table_text+\"{m32:.4f} | {m33:.4f} \\n\"\n",
    "\n",
    "## First Row of Table\n",
    "m42 = (opt_plan_discrete_multiasset(v11,p11,v12,p12,v21,p21,v22,p22,func=payoff4,onedim=True,minimize=True,q_corr_greater_p_const= corr_p,q_corr_greater_p = True)[0])\n",
    "m43 = (opt_plan_discrete_multiasset(v11,p11,v12,p12,v21,p21,v22,p22,func=payoff4,onedim=True,minimize=False,q_corr_greater_p_const= corr_p,q_corr_greater_p = True)[0])\n",
    "m42=round(m42,4)\n",
    "m43=round(m43,4)\n",
    "table_text = table_text+\"{m42:.4f} | {m43:.4f}  \\n\"\n",
    "\n",
    "\n",
    "print(table_text.format(m12 =m12,m13=m13,m22=m22,m23=m23,m32=m32,m33=m33,m42=m42,m43=m43))"
   ]
  },
  {
   "cell_type": "markdown",
   "metadata": {},
   "source": [
    "## Constant  Correlation lower bounded -0.5"
   ]
  },
  {
   "cell_type": "code",
   "execution_count": 19,
   "metadata": {},
   "outputs": [
    {
     "name": "stdout",
     "output_type": "stream",
     "text": [
      "Constant Correlation, lower bounded by -0.5 \n",
      " ------------ \n",
      "0.3290 | 0.9781  \n",
      "1.9611 | 3.1615\n",
      "0.0795 | 1.9778\n",
      "0.0012 | 0.0207\n",
      "\n"
     ]
    }
   ],
   "source": [
    "corr_p = -0.5\n",
    "\n",
    "## First Row of Table\n",
    "m12 = (opt_plan_discrete_multiasset(v11,p11,v12,p12,v21,p21,v22,p22,func=payoff1,onedim=True,minimize=True,same_correlation = True,q_corr_greater_p_const= corr_p,q_corr_greater_p = True)[0])\n",
    "m13 = (opt_plan_discrete_multiasset(v11,p11,v12,p12,v21,p21,v22,p22,func=payoff1,onedim=True,minimize=False,same_correlation = True,q_corr_greater_p_const= corr_p,q_corr_greater_p = True)[0])\n",
    "m12=round(m12,4)\n",
    "m13=round(m13,4)\n",
    "table_text = \"Constant Correlation, lower bounded by -0.5 \\n ------------ \\n\" + \"{m12:.4f} | {m13:.4f}  \\n\"\n",
    "\n",
    "## First Row of Table\n",
    "m22 = (opt_plan_discrete_multiasset(v11,p11,v12,p12,v21,p21,v22,p22,func=payoff2,onedim=True,minimize=True,same_correlation = True,q_corr_greater_p_const= corr_p,q_corr_greater_p = True)[0])\n",
    "m23 = (opt_plan_discrete_multiasset(v11,p11,v12,p12,v21,p21,v22,p22,func=payoff2,onedim=True,minimize=False,same_correlation = True,q_corr_greater_p_const= corr_p,q_corr_greater_p = True)[0])\n",
    "m22=round(m22,4)\n",
    "m23=round(m23,4)\n",
    "table_text = table_text+\"{m22:.4f} | {m23:.4f}\\n\"\n",
    "\n",
    "## First Row of Table\n",
    "m32 = (opt_plan_discrete_multiasset(v11,p11,v12,p12,v21,p21,v22,p22,func=payoff3,onedim=True,minimize=True,same_correlation = True,q_corr_greater_p_const= corr_p,q_corr_greater_p = True)[0])\n",
    "m33 = (opt_plan_discrete_multiasset(v11,p11,v12,p12,v21,p21,v22,p22,func=payoff3,onedim=True,minimize=False,same_correlation = True,q_corr_greater_p_const= corr_p,q_corr_greater_p = True)[0])\n",
    "m32=round(m32,4)\n",
    "m33=round(m33,4)\n",
    "table_text = table_text+\"{m32:.4f} | {m33:.4f}\\n\"\n",
    "\n",
    "## First Row of Table\n",
    "m42 = (opt_plan_discrete_multiasset(v11,p11,v12,p12,v21,p21,v22,p22,func=payoff4,onedim=True,minimize=True,same_correlation = True,q_corr_greater_p_const= corr_p,q_corr_greater_p = True)[0])\n",
    "m43 = (opt_plan_discrete_multiasset(v11,p11,v12,p12,v21,p21,v22,p22,func=payoff4,onedim=True,minimize=False,same_correlation = True,q_corr_greater_p_const= corr_p,q_corr_greater_p = True)[0])\n",
    "m42=round(m42,4)\n",
    "m43=round(m43,4)\n",
    "table_text = table_text+\"{m42:.4f} | {m43:.4f}\\n\"\n",
    "\n",
    "\n",
    "print(table_text.format(m12 =m12,m13=m13,m22=m22,m23=m23,m32=m32,m33=m33,m42=m42,m43=m43))"
   ]
  },
  {
   "cell_type": "markdown",
   "metadata": {},
   "source": [
    "## Constant  Correlation lower bounded 0.5"
   ]
  },
  {
   "cell_type": "code",
   "execution_count": 21,
   "metadata": {},
   "outputs": [
    {
     "name": "stdout",
     "output_type": "stream",
     "text": [
      "Constant Correlation, lower bounded by 0.5 \n",
      " ------------ \n",
      "0.6390 | 0.9781  \n",
      "1.9611 | 2.8930\n",
      "0.0795 | 0.6784\n",
      "0.0014 | 0.0207\n",
      "\n"
     ]
    }
   ],
   "source": [
    "corr_p = 0.5\n",
    "\n",
    "## First Row of Table\n",
    "m12 = (opt_plan_discrete_multiasset(v11,p11,v12,p12,v21,p21,v22,p22,func=payoff1,onedim=True,minimize=True,same_correlation = True,q_corr_greater_p_const= corr_p,q_corr_greater_p = True)[0])\n",
    "m13 = (opt_plan_discrete_multiasset(v11,p11,v12,p12,v21,p21,v22,p22,func=payoff1,onedim=True,minimize=False,same_correlation = True,q_corr_greater_p_const= corr_p,q_corr_greater_p = True)[0])\n",
    "m12=round(m12,4)\n",
    "m13=round(m13,4)\n",
    "table_text = \"Constant Correlation, lower bounded by 0.5 \\n ------------ \\n\" + \"{m12:.4f} | {m13:.4f}  \\n\"\n",
    "\n",
    "## First Row of Table\n",
    "m22 = (opt_plan_discrete_multiasset(v11,p11,v12,p12,v21,p21,v22,p22,func=payoff2,onedim=True,minimize=True,same_correlation = True,q_corr_greater_p_const= corr_p,q_corr_greater_p = True)[0])\n",
    "m23 = (opt_plan_discrete_multiasset(v11,p11,v12,p12,v21,p21,v22,p22,func=payoff2,onedim=True,minimize=False,same_correlation = True,q_corr_greater_p_const= corr_p,q_corr_greater_p = True)[0])\n",
    "m22=round(m22,4)\n",
    "m23=round(m23,4)\n",
    "table_text = table_text+\"{m22:.4f} | {m23:.4f}\\n\"\n",
    "\n",
    "## First Row of Table\n",
    "m32 = (opt_plan_discrete_multiasset(v11,p11,v12,p12,v21,p21,v22,p22,func=payoff3,onedim=True,minimize=True,same_correlation = True,q_corr_greater_p_const= corr_p,q_corr_greater_p = True)[0])\n",
    "m33 = (opt_plan_discrete_multiasset(v11,p11,v12,p12,v21,p21,v22,p22,func=payoff3,onedim=True,minimize=False,same_correlation = True,q_corr_greater_p_const= corr_p,q_corr_greater_p = True)[0])\n",
    "m32=round(m32,4)\n",
    "m33=round(m33,4)\n",
    "table_text = table_text+\"{m32:.4f} | {m33:.4f}\\n\"\n",
    "\n",
    "## First Row of Table\n",
    "m42 = (opt_plan_discrete_multiasset(v11,p11,v12,p12,v21,p21,v22,p22,func=payoff4,onedim=True,minimize=True,same_correlation = True,q_corr_greater_p_const= corr_p,q_corr_greater_p = True)[0])\n",
    "m43 = (opt_plan_discrete_multiasset(v11,p11,v12,p12,v21,p21,v22,p22,func=payoff4,onedim=True,minimize=False,same_correlation = True,q_corr_greater_p_const= corr_p,q_corr_greater_p = True)[0])\n",
    "m42=round(m42,4)\n",
    "m43=round(m43,4)\n",
    "table_text = table_text+\"{m42:.4f} | {m43:.4f}\\n\"\n",
    "\n",
    "\n",
    "print(table_text.format(m12 =m12,m13=m13,m22=m22,m23=m23,m32=m32,m33=m33,m42=m42,m43=m43))"
   ]
  }
 ],
 "metadata": {
  "kernelspec": {
   "display_name": "Python 3",
   "language": "python",
   "name": "python3"
  },
  "language_info": {
   "codemirror_mode": {
    "name": "ipython",
    "version": 3
   },
   "file_extension": ".py",
   "mimetype": "text/x-python",
   "name": "python",
   "nbconvert_exporter": "python",
   "pygments_lexer": "ipython3",
   "version": "3.7.9"
  }
 },
 "nbformat": 4,
 "nbformat_minor": 4
}
