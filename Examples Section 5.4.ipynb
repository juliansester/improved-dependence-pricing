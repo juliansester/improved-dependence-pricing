{
 "cells": [
  {
   "cell_type": "markdown",
   "metadata": {},
   "source": [
    "# Improvement through data driven Marginals, Section 5.4."
   ]
  },
  {
   "cell_type": "code",
   "execution_count": 1,
   "metadata": {},
   "outputs": [],
   "source": [
    "import pandas as pd\n",
    "import numpy as np\n",
    "import matplotlib.pyplot as plt\n",
    "import datetime as dt\n",
    "from MOT_2dim2assets import *\n",
    "from matplotlib import rc\n",
    "from matplotlib import style\n",
    "from scipy.interpolate import interp1d\n",
    "from scipy.stats import pearsonr, norm\n",
    "from scipy import stats\n",
    "import random\n",
    "style.use('ggplot')"
   ]
  },
  {
   "cell_type": "markdown",
   "metadata": {},
   "source": [
    "First, we import the csv files containing the data (Company1 = Apple, Company2 = Microsoft)"
   ]
  },
  {
   "cell_type": "code",
   "execution_count": 2,
   "metadata": {
    "scrolled": true
   },
   "outputs": [],
   "source": [
    "company_1_t1_call = pd.read_csv('csv/company_1_t1_call.csv')\n",
    "company_1_t2_call = pd.read_csv('csv/company_1_t2_call.csv')\n",
    "company_2_t1_call = pd.read_csv('csv/company_2_t1_call.csv')\n",
    "company_2_t2_call = pd.read_csv('csv/company_2_t2_call.csv')\n",
    "company_1_t1_put = pd.read_csv('csv/company_1_t1_put.csv')\n",
    "company_1_t2_put = pd.read_csv('csv/company_1_t2_put.csv')\n",
    "company_2_t1_put = pd.read_csv('csv/company_2_t1_put.csv')\n",
    "company_2_t2_put = pd.read_csv('csv/company_2_t2_put.csv')"
   ]
  },
  {
   "cell_type": "markdown",
   "metadata": {},
   "source": [
    "Next, we want to derive the corresponding marginals.\n",
    "According to Breeden-Litzenberger, and by applying finite differences, we have\n",
    "$$\n",
    "prob(K) \\approx \\frac{C(K_{i+1},t)-2C(K_{i},t)+C(K_{i-1},t)}{(K_{i+1}-K_{i})(K_{i}-K_{i-1})}= \\frac{P(K_{i+1},t)-2P(K_{i},t)+P(K_{i-1},t)}{(K_{i+1}-K_{i})(K_{i}-K_{i-1})}\n",
    "$$\n",
    "We leave out the first and last strike.\n",
    "\n",
    "We then normalize the sum of probabilities"
   ]
  },
  {
   "cell_type": "code",
   "execution_count": 3,
   "metadata": {},
   "outputs": [],
   "source": [
    "def prices_to_density(strikes_call,prices_call,strikes_put,prices_put,finite_differences = True):\n",
    "    probs = []\n",
    "    strikes = []\n",
    "    # First Stike\n",
    "    probs.append(0)\n",
    "    strikes.append(strikes_put[0])\n",
    "    if finite_differences:\n",
    "        #Loop over Put Options \n",
    "        for i in range(1,len(strikes_put)-1):\n",
    "            probs.append((prices_put[i+1]-2*prices_put[i]+prices_put[i-1])/((strikes_put[i+1]-strikes_put[i])*(strikes_put[i]-strikes_put[i-1])))\n",
    "            strikes.append(strikes_put[i])\n",
    "        #Loop over Call Options \n",
    "        for i in range(1,len(strikes_call)-1):\n",
    "            probs.append((prices_call[i+1]-2*prices_call[i]+prices_call[i-1])/((strikes_call[i+1]-strikes_call[i])*(strikes_call[i]-strikes_call[i-1])))\n",
    "            strikes.append(strikes_call[i])\n",
    "    else:\n",
    "        #Loop over Put Options \n",
    "        for i in range(1,len(strikes_put)-1):\n",
    "            probs.append((prices_put[i+1]-prices_put[i])/(strikes_put[i+1]-strikes_put[i])-(prices_put[i]-prices_put[i-1])/(strikes_put[i]-strikes_put[i-1]))\n",
    "            strikes.append(strikes_put[i])\n",
    "        #Loop over Call Options \n",
    "        for i in range(1,len(strikes_call)-1):\n",
    "            probs.append((prices_call[i+1]-prices_call[i])/(strikes_call[i+1]-strikes_call[i])-(prices_call[i]-prices_call[i-1])/(strikes_call[i]-strikes_call[i-1]))\n",
    "            strikes.append(strikes_call[i])\n",
    "    # Last Strike\n",
    "    probs.append(0)\n",
    "    strikes.append(strikes_call[-1])\n",
    "    #normalize\n",
    "    sum_p = sum(probs)\n",
    "    probs = [p/sum_p for p in probs]\n",
    "    return strikes, probs"
   ]
  },
  {
   "cell_type": "markdown",
   "metadata": {},
   "source": [
    "Clean the call option prices for non-decreasing prices"
   ]
  },
  {
   "cell_type": "code",
   "execution_count": 4,
   "metadata": {},
   "outputs": [],
   "source": [
    "def clean_call_prices(list_of_strikes,list_of_prices):\n",
    "    while(any(np.diff(np.array(list_of_prices))>0)):\n",
    "        violation_index = 1000000000\n",
    "        for i in range(1,len(list_of_strikes)):\n",
    "            if list_of_prices[i]>list_of_prices[i-1]:\n",
    "                violation_index = i\n",
    "                break\n",
    "        list_of_strikes = [list_of_strikes[i] for i in range(len(list_of_strikes)) if i != violation_index]\n",
    "        list_of_prices  = [list_of_prices [i] for i in range(len(list_of_prices )) if i != violation_index]\n",
    "    return list_of_strikes, list_of_prices"
   ]
  },
  {
   "cell_type": "code",
   "execution_count": 5,
   "metadata": {},
   "outputs": [],
   "source": [
    "company_1_t1_call_STRIKE_PRC, company_1_t1_call_MID = clean_call_prices(list(company_1_t1_call.STRIKE_PRC),\n",
    "                                                                        list(company_1_t1_call.MID))\n",
    "company_2_t1_call_STRIKE_PRC, company_2_t1_call_MID = clean_call_prices(list(company_2_t1_call.STRIKE_PRC),\n",
    "                                                                        list(company_2_t1_call.MID))\n",
    "company_1_t2_call_STRIKE_PRC, company_1_t2_call_MID = clean_call_prices(list(company_1_t2_call.STRIKE_PRC),\n",
    "                                                                        list(company_1_t2_call.MID))\n",
    "company_2_t2_call_STRIKE_PRC, company_2_t2_call_MID = clean_call_prices(list(company_2_t2_call.STRIKE_PRC),\n",
    "                                                                        list(company_2_t2_call.MID))"
   ]
  },
  {
   "cell_type": "markdown",
   "metadata": {},
   "source": [
    "We proceed similarly for put options"
   ]
  },
  {
   "cell_type": "code",
   "execution_count": 6,
   "metadata": {},
   "outputs": [],
   "source": [
    "def clean_put_prices(list_of_strikes,list_of_prices):\n",
    "    while(any(np.diff(np.array(list_of_prices))<0)):\n",
    "        violation_index = 1000000000\n",
    "        for i in range(1,len(list_of_strikes)):\n",
    "            if list_of_prices[i]<list_of_prices[i-1]:\n",
    "                violation_index = i\n",
    "                break\n",
    "        list_of_strikes = [list_of_strikes[i] for i in range(len(list_of_strikes)) if i != violation_index]\n",
    "        list_of_prices  = [list_of_prices [i] for i in range(len(list_of_prices )) if i != violation_index]\n",
    "    return list_of_strikes, list_of_prices"
   ]
  },
  {
   "cell_type": "code",
   "execution_count": 7,
   "metadata": {},
   "outputs": [],
   "source": [
    "company_1_t1_put_STRIKE_PRC, company_1_t1_put_MID = clean_put_prices(list(company_1_t1_put.STRIKE_PRC),\n",
    "                                                                        list(company_1_t1_put.MID))\n",
    "company_2_t1_put_STRIKE_PRC, company_2_t1_put_MID = clean_put_prices(list(company_2_t1_put.STRIKE_PRC),\n",
    "                                                                        list(company_2_t1_put.MID))\n",
    "company_1_t2_put_STRIKE_PRC, company_1_t2_put_MID = clean_put_prices(list(company_1_t2_put.STRIKE_PRC),\n",
    "                                                                        list(company_1_t2_put.MID))\n",
    "company_2_t2_put_STRIKE_PRC, company_2_t2_put_MID = clean_put_prices(list(company_2_t2_put.STRIKE_PRC),\n",
    "                                                                        list(company_2_t2_put.MID))"
   ]
  },
  {
   "cell_type": "markdown",
   "metadata": {},
   "source": [
    "We continue cleaning by checking the convexity conditions, i.e. we check that\n",
    "$$ \\frac{C(K_{i+1},t)-C(K_{i},t)}{K_{i+1}-K_{i}}\n",
    "$$\n",
    "as well as\n",
    "$$ \\frac{P(K_{i+1},t)-P(K_{i},t)}{K_{i+1}-K_{i}}\n",
    "$$\n",
    "are increasing functions in $K_i$.\n",
    "We leave out the first and last strike.\n",
    "\n",
    "We then normalize the sum of probabilities"
   ]
  },
  {
   "cell_type": "code",
   "execution_count": 8,
   "metadata": {},
   "outputs": [],
   "source": [
    "def clean_prices_2(list_of_strikes,list_of_prices,finite_differences = True):\n",
    "    if finite_differences:\n",
    "        slope =  [(list_of_prices[i+1]-2*list_of_prices[i]+list_of_prices[i-1])/((list_of_strikes[i+1]-list_of_strikes[i])*(list_of_strikes[i]-list_of_strikes[i-1])) for i in range(1,len(list_of_strikes)-1)]\n",
    "    else:\n",
    "        slope = [(list_of_prices[i+1]-list_of_prices[i])/(list_of_strikes[i+1]-list_of_strikes[i])-(list_of_prices[i]-list_of_prices[i-1])/(list_of_strikes[i]-list_of_strikes[i-1]) for i in range(1,len(list_of_strikes)-1)]      \n",
    "    while(any((np.array(slope))<0)):\n",
    "        violation_index = 1000000000\n",
    "        for i in range(len(list_of_strikes)-2):\n",
    "            if slope[i]<0:\n",
    "                violation_index = i+2\n",
    "                break\n",
    "        list_of_strikes = [list_of_strikes[i] for i in range(len(list_of_strikes)) if i != violation_index]\n",
    "        list_of_prices  = [list_of_prices [i] for i in range(len(list_of_prices )) if i != violation_index]\n",
    "        if finite_differences:\n",
    "            slope =  [(list_of_prices[i+1]-2*list_of_prices[i]+list_of_prices[i-1])/((list_of_strikes[i+1]-list_of_strikes[i])*(list_of_strikes[i]-list_of_strikes[i-1])) for i in range(1,len(list_of_strikes)-1)]\n",
    "        else:\n",
    "            slope = [(list_of_prices[i+1]-list_of_prices[i])/(list_of_strikes[i+1]-list_of_strikes[i])-(list_of_prices[i]-list_of_prices[i-1])/(list_of_strikes[i]-list_of_strikes[i-1]) for i in range(1,len(list_of_strikes)-1)]      \n",
    "\n",
    "    return list_of_strikes, list_of_prices"
   ]
  },
  {
   "cell_type": "code",
   "execution_count": 9,
   "metadata": {},
   "outputs": [],
   "source": [
    " company_1_t1_call_STRIKE_PRC, company_1_t1_call_MID = clean_prices_2(company_1_t1_call_STRIKE_PRC,\n",
    "                                                                         company_1_t1_call_MID)\n",
    " company_2_t1_call_STRIKE_PRC, company_2_t1_call_MID = clean_prices_2(company_2_t1_call_STRIKE_PRC,\n",
    "                                                                         company_2_t1_call_MID)\n",
    " company_1_t2_call_STRIKE_PRC, company_1_t2_call_MID = clean_prices_2(company_1_t2_call_STRIKE_PRC,\n",
    "                                                                         company_1_t2_call_MID)\n",
    " company_2_t2_call_STRIKE_PRC, company_2_t2_call_MID = clean_prices_2(company_2_t2_call_STRIKE_PRC,\n",
    "                                                                         company_2_t2_call_MID)\n",
    " company_1_t1_put_STRIKE_PRC, company_1_t1_put_MID = clean_prices_2(company_1_t1_put_STRIKE_PRC,\n",
    "                                                                         company_1_t1_put_MID)\n",
    " company_2_t1_put_STRIKE_PRC, company_2_t1_put_MID = clean_prices_2(company_2_t1_put_STRIKE_PRC,\n",
    "                                                                         company_2_t1_put_MID)\n",
    " company_1_t2_put_STRIKE_PRC, company_1_t2_put_MID = clean_prices_2(company_1_t2_put_STRIKE_PRC,\n",
    "                                                                         company_1_t2_put_MID)\n",
    " company_2_t2_put_STRIKE_PRC, company_2_t2_put_MID = clean_prices_2(company_2_t2_put_STRIKE_PRC,\n",
    "                                                                         company_2_t2_put_MID)"
   ]
  },
  {
   "cell_type": "markdown",
   "metadata": {},
   "source": [
    "Convert the prices to probabilities"
   ]
  },
  {
   "cell_type": "code",
   "execution_count": 10,
   "metadata": {},
   "outputs": [],
   "source": [
    "v11, p11 = prices_to_density(company_1_t1_call_STRIKE_PRC,company_1_t1_call_MID,\n",
    "                             company_1_t1_put_STRIKE_PRC,company_1_t1_put_MID)\n",
    "v12, p12 = prices_to_density(company_2_t1_call_STRIKE_PRC,company_2_t1_call_MID,\n",
    "                            company_2_t1_put_STRIKE_PRC,company_2_t1_put_MID)\n",
    "v21, p21 = prices_to_density(company_1_t2_call_STRIKE_PRC,company_1_t2_call_MID,\n",
    "                            company_1_t2_put_STRIKE_PRC,company_1_t2_put_MID)\n",
    "v22, p22 = prices_to_density(company_2_t2_call_STRIKE_PRC,company_2_t2_call_MID,\n",
    "                            company_2_t2_put_STRIKE_PRC,company_2_t2_put_MID)"
   ]
  },
  {
   "cell_type": "markdown",
   "metadata": {},
   "source": [
    "Adjusting the means"
   ]
  },
  {
   "cell_type": "code",
   "execution_count": 11,
   "metadata": {
    "scrolled": true
   },
   "outputs": [],
   "source": [
    "p11=[p/sum(p11) for p in p11]\n",
    "p12=[p/sum(p12) for p in p12]\n",
    "p21=[p/sum(p21) for p in p21]\n",
    "p22=[p/sum(p22) for p in p22]\n",
    "\n",
    "\n",
    "mean_11 = sum([v*p for v,p in zip(v11,p11)])\n",
    "mean_21 = sum([v*p for v,p in zip(v21,p21)])\n",
    "mean_12 = sum([v*p for v,p in zip(v12,p12)])\n",
    "mean_22 = sum([v*p for v,p in zip(v22,p22)])\n",
    "\n",
    "v11 = [v + 0.5*(mean_21-mean_11) for v in v11]\n",
    "v21 = [v + 0.5*(mean_11-mean_21) for v in v21]\n",
    "v12 = [v + 0.5*(mean_22-mean_12) for v in v12]\n",
    "v22 = [v + 0.5*(mean_12-mean_22) for v in v22]"
   ]
  },
  {
   "cell_type": "markdown",
   "metadata": {},
   "source": [
    "Plot the corresponding densities of the marginals"
   ]
  },
  {
   "cell_type": "code",
   "execution_count": 12,
   "metadata": {},
   "outputs": [],
   "source": [
    "def use_same_grid(v1,p1,v2,p2):\n",
    "    start = min(min(v1),min(v2))\n",
    "    end = max(max(v1),max(v2))\n",
    "    x = np.sort(np.concatenate((v1,v2)))\n",
    "    v1 = np.concatenate(([start],v1,[end]))\n",
    "    p1 = np.concatenate(([0],p1,[0]))\n",
    "    v2 = np.concatenate(([start],v2,[end]))\n",
    "    p2 = np.concatenate(([0],p2,[0]))\n",
    "    f1 = interp1d(v1, p1, kind='linear')    \n",
    "    f2 = interp1d(v2, p2, kind='linear')\n",
    "    p1 = f1(x)\n",
    "    p2 = f2(x)\n",
    "    v1 = x\n",
    "    v2 = x \n",
    "    p1 = p1/sum(p1)\n",
    "    p2 = p2/sum(p2)\n",
    "    return v1,p1,v2,p2"
   ]
  },
  {
   "cell_type": "code",
   "execution_count": 13,
   "metadata": {},
   "outputs": [],
   "source": [
    "# Get new marginals on the same grid\n",
    "vv11,pp11,vv21,pp21 = use_same_grid(v11,p11,v21,p21)\n",
    "vv12,pp12,vv22,pp22 = use_same_grid(v12,p12,v22,p22)"
   ]
  },
  {
   "cell_type": "code",
   "execution_count": 14,
   "metadata": {
    "scrolled": true
   },
   "outputs": [
    {
     "data": {
      "image/png": "[encoded data removed]",
      "text/plain": [
       "<Figure size 576x288 with 4 Axes>"
      ]
     },
     "metadata": {},
     "output_type": "display_data"
    }
   ],
   "source": [
    "# fig, axs = plt.subplots(2, 2)\n",
    "\n",
    "fig,axs = plt.subplots(2, 2,figsize = (8,4))\n",
    "#fig = plt.figure(figsize = (10,10))\n",
    "\n",
    "\n",
    "x11 = np.linspace(min(vv11), max(vv11), num=200, endpoint=True)\n",
    "f11 = interp1d(vv11, pp11, kind='linear')\n",
    "axs[0, 0].plot(x11,f11(x11),color=\"blue\")\n",
    "axs[0, 0].fill_between(x11,[0]*len(x11), f11(x11), color='aliceblue')\n",
    "axs[0, 0].scatter(v11,f11(v11))\n",
    "axs[0, 0].set_title(r'$S_{t_1}^1$')\n",
    "\n",
    "\n",
    "x21 = np.linspace(min(vv21), max(vv21), num=200, endpoint=True)\n",
    "f21 = interp1d(vv21, pp21, kind='linear')\n",
    "axs[0, 1].plot(x21,f21(x21),color=\"blue\")\n",
    "axs[0, 1].fill_between(x11,[0]*len(x21), f21(x21), color='aliceblue')\n",
    "axs[0, 1].scatter(v21,f21(v21))\n",
    "axs[0, 1].set_title(r'$S_{t_2}^1$')\n",
    "\n",
    "\n",
    "x12 = np.linspace(min(vv12), max(vv12), num=200, endpoint=True)\n",
    "f12 = interp1d(vv12, pp12, kind='linear')\n",
    "axs[1, 0].plot(x12,f12(x12),color=\"blue\")\n",
    "axs[1, 0].fill_between(x12,[0]*len(x12), f12(x12), color='aliceblue')\n",
    "axs[1, 0].scatter(v12,f12(v12))\n",
    "axs[1, 0].set_title(r'$S_{t_1}^2$')\n",
    "\n",
    "\n",
    "x22 = np.linspace(min(vv22), max(vv22), num=200, endpoint=True)\n",
    "f22 = interp1d(vv22, pp22, kind='linear')\n",
    "axs[1, 1].plot(x22,f22(x22),color=\"blue\")\n",
    "axs[1, 1].fill_between(x22,[0]*len(x22), f22(x22), color='aliceblue')\n",
    "axs[1, 1].scatter(v22,f22(v22))\n",
    "axs[1, 1].set_title(r'$S_{t_2}^2$')\n",
    "\n",
    "axs[0,0].grid(True, linestyle='--')\n",
    "axs[0,1].grid(True, linestyle='--')\n",
    "axs[1,0].grid(True, linestyle='--')\n",
    "axs[1,1].grid(True, linestyle='--')\n",
    "fig.subplots_adjust(right=0.9,top = 0.9,wspace = 0.25,hspace = 0.75)\n",
    "plt.savefig('fig_marginal_densities.eps', format='eps')\n",
    "plt.show()"
   ]
  },
  {
   "cell_type": "markdown",
   "metadata": {},
   "source": [
    "U-Quantization"
   ]
  },
  {
   "cell_type": "code",
   "execution_count": 15,
   "metadata": {},
   "outputs": [],
   "source": [
    "def discretize_density(density,min=0, max=10,N=10000,n=20,average=True,use_mean=False,mean_value=1):\n",
    "    vv = np.linspace(min,max,N)\n",
    "    epsilon = 1/n\n",
    "    #Distribution Function:\n",
    "    distr = np.cumsum(density(vv))/(np.cumsum(density(vv)))[-1]\n",
    "    if average:\n",
    "        v = np.zeros(n)\n",
    "        for j in range(n-1):\n",
    "            k=[]\n",
    "            for i in range(N):\n",
    "                if distr[i] >= ((j+1)/n - epsilon) and distr[i] < (j+1)/n :\n",
    "                    k.append(vv[i])\n",
    "            v[j] = np.mean(k)\n",
    "        k=[]\n",
    "        for i in range(N):\n",
    "            if distr[i] >= (1-epsilon) and distr[i] < 1:\n",
    "                k.append(vv[i])\n",
    "        v[-1]=np.min(k)\n",
    "        if use_mean:\n",
    "            v[-1] = n*mean_value - np.sum(v[:n])\n",
    "        p = np.repeat(1/n,n)\n",
    "    else:\n",
    "        v=np.linspace(min,max,n)\n",
    "        p=density(v)\n",
    "    return v,p"
   ]
  },
  {
   "cell_type": "code",
   "execution_count": 16,
   "metadata": {},
   "outputs": [],
   "source": [
    "v11,p11 = discretize_density(interp1d(v11, p11, kind='linear'),min = min(v11),max = max(v11))\n",
    "v12,p12 = discretize_density(interp1d(v12, p12, kind='linear'),min = min(v12),max = max(v12))\n",
    "v21,p21 = discretize_density(interp1d(v21, p21, kind='linear'),min = min(v21),max = max(v21))\n",
    "v22,p22 = discretize_density(interp1d(v22, p22, kind='linear'),min = min(v22),max = max(v22))\n",
    "mean_11 = sum([v*p for v,p in zip(v11,p11)])\n",
    "mean_21 = sum([v*p for v,p in zip(v21,p21)])\n",
    "mean_12 = sum([v*p for v,p in zip(v12,p12)])\n",
    "mean_22 = sum([v*p for v,p in zip(v22,p22)])\n",
    "v11 = [v + 0.5*(mean_21-mean_11) for v in v11]\n",
    "v21 = [v + 0.5*(mean_11-mean_21) for v in v21]\n",
    "v12 = [v + 0.5*(mean_22-mean_12) for v in v12]\n",
    "v22 = [v + 0.5*(mean_12-mean_22) for v in v22]"
   ]
  },
  {
   "cell_type": "markdown",
   "metadata": {},
   "source": [
    "$\\textbf{Compute Price Bounds given these Marginals}$"
   ]
  },
  {
   "cell_type": "markdown",
   "metadata": {},
   "source": [
    "We first define the payoff functions"
   ]
  },
  {
   "cell_type": "code",
   "execution_count": 17,
   "metadata": {},
   "outputs": [],
   "source": [
    "# We use the same payoff functions as always\n",
    "\n",
    "def payoff1(a,b,c,d):\n",
    "    return max((1/4)*(a+b+c+d)-250,0)\n",
    "\n",
    "def payoff2(a,b,c,d):\n",
    "    return max(250-min([a,b,c,d]),0)\n",
    "    #return (c>a)*(d>b)\n",
    "\n",
    "def payoff3(a,b,c,d):\n",
    "    return (1/4)*max(b-a,0)*max(d-c,0)\n",
    "\n",
    "def payoff4(a,b,c,d):\n",
    "    return ((c-a)/a)**2*((d-b)/b)**2\n"
   ]
  },
  {
   "cell_type": "markdown",
   "metadata": {},
   "source": [
    "First we compute the maximal possible values for the correlation"
   ]
  },
  {
   "cell_type": "code",
   "execution_count": 18,
   "metadata": {},
   "outputs": [],
   "source": [
    "def extremal_correlation(v11,p11,v12,p12,v21,p21,v22,p22):\n",
    "    v11 = np.array(v11)\n",
    "    v12 = np.array(v12)\n",
    "    v21 = np.array(v21)\n",
    "    v22 = np.array(v22)\n",
    "    p11 = np.array(p11)\n",
    "    p12 = np.array(p12)\n",
    "    p21 = np.array(p21)\n",
    "    p22 = np.array(p22)    \n",
    "    S_0_1 = np.sum(v11*p11)\n",
    "    S_0_2 = np.sum(v12*p12)\n",
    "    second_moment_1_t1 = np.sum(v11**2*p11)\n",
    "    second_moment_2_t1 = np.sum(v12**2*p12)\n",
    "    second_moment_1_t2 = np.sum(v21**2*p21)\n",
    "    second_moment_2_t2 = np.sum(v22**2*p22)\n",
    "    def correlation_payoff_time_1(a,b,c,d):\n",
    "        return ((a*b-S_0_1*S_0_2)/(np.sqrt(second_moment_1_t1-S_0_1**2)*np.sqrt(second_moment_2_t1-S_0_2**2)))\n",
    "        \n",
    "    def correlation_payoff_time_2(a,b,c,d):\n",
    "        return ((c*d-S_0_1*S_0_2)/(np.sqrt(second_moment_1_t2-S_0_1**2)*np.sqrt(second_moment_2_t2-S_0_2**2)))\n",
    "         \n",
    "    minimal_corr_time_1 = opt_plan_discrete_multiasset(v11,p11,v12,p12,v21,p21,v22,p22,func=correlation_payoff_time_1,onedim=True,minimize=True)[0]\n",
    "    maximal_corr_time_1 = opt_plan_discrete_multiasset(v11,p11,v12,p12,v21,p21,v22,p22,func=correlation_payoff_time_1,onedim=True,minimize=False)[0] \n",
    "    minimal_corr_time_2 = opt_plan_discrete_multiasset(v11,p11,v12,p12,v21,p21,v22,p22,func=correlation_payoff_time_2,onedim=True,minimize=True)[0]\n",
    "    maximal_corr_time_2 = opt_plan_discrete_multiasset(v11,p11,v12,p12,v21,p21,v22,p22,func=correlation_payoff_time_2,onedim=True,minimize=False)[0]     \n",
    "    return minimal_corr_time_1, maximal_corr_time_1, minimal_corr_time_2, maximal_corr_time_2"
   ]
  },
  {
   "cell_type": "code",
   "execution_count": 19,
   "metadata": {},
   "outputs": [
    {
     "name": "stdout",
     "output_type": "stream",
     "text": [
      "Academic license - for non-commercial use only - expires 2022-10-07\n",
      "Using license file C:\\Users\\julia\\gurobi.lic\n",
      "The correlation at time 1 should be in between -0.5869748346213925 and 0.7992554743509888\n",
      "The correlation at time 2 should be in between -0.48706914373837407 and 0.8490985106113986\n"
     ]
    }
   ],
   "source": [
    "minimal_corr_time_1,maximal_corr_time_1,minimal_corr_time_2,maximal_corr_time_2 = extremal_correlation(v11,p11,v12,p12,v21,p21,v22,p22)\n",
    "\n",
    "\n",
    "\n",
    "\n",
    "\n",
    "\n",
    "\n",
    "print(\"The correlation at time 1 should be in between {c1} and {c2}\".format(c1 = minimal_corr_time_1, c2 = maximal_corr_time_1))\n",
    "print(\"The correlation at time 2 should be in between {c1} and {c2}\".format(c1 = minimal_corr_time_2, c2 = maximal_corr_time_2))"
   ]
  },
  {
   "cell_type": "markdown",
   "metadata": {},
   "source": [
    "We compute the improvement through correlation information (at time 1)"
   ]
  },
  {
   "cell_type": "code",
   "execution_count": 20,
   "metadata": {
    "scrolled": true
   },
   "outputs": [],
   "source": [
    "### Correlation improvement\n",
    "\n",
    "#Figure 1\n",
    "# Nr. of Discretization Points\n",
    "N = 20\n",
    "\n",
    "lower_bound1 = []\n",
    "upper_bound1 = []\n",
    "lower_bound2 = []\n",
    "upper_bound2 = []\n",
    "lower_bound3 = []\n",
    "upper_bound3 = []\n",
    "lower_bound4 = []\n",
    "upper_bound4 = []\n",
    "corr = np.linspace(minimal_corr_time_1,maximal_corr_time_1,N)\n",
    "lb1 = opt_plan_discrete_multiasset(v11,p11,v12,p12,v21,p21,v22,p22,func=payoff1,onedim=True,minimize=True)[0]\n",
    "ub1 = opt_plan_discrete_multiasset(v11,p11,v12,p12,v21,p21,v22,p22,func=payoff1,onedim=True,minimize=False)[0]\n",
    "lb2 = opt_plan_discrete_multiasset(v11,p11,v12,p12,v21,p21,v22,p22,func=payoff2,onedim=True,minimize=True)[0]\n",
    "ub2 = opt_plan_discrete_multiasset(v11,p11,v12,p12,v21,p21,v22,p22,func=payoff2,onedim=True,minimize=False)[0]\n",
    "lb3 = opt_plan_discrete_multiasset(v11,p11,v12,p12,v21,p21,v22,p22,func=payoff3,onedim=True,minimize=True)[0]\n",
    "ub3 = opt_plan_discrete_multiasset(v11,p11,v12,p12,v21,p21,v22,p22,func=payoff3,onedim=True,minimize=False)[0]\n",
    "lb4 = opt_plan_discrete_multiasset(v11,p11,v12,p12,v21,p21,v22,p22,func=payoff4,onedim=True,minimize=True)[0]\n",
    "ub4 = opt_plan_discrete_multiasset(v11,p11,v12,p12,v21,p21,v22,p22,func=payoff4,onedim=True,minimize=False)[0]\n",
    "\n",
    "for i in range(N):\n",
    "    lower_bound1.append(opt_plan_discrete_multiasset(v11,p11,v12,p12,v21,p21,v22,p22,\n",
    "                                                     func=payoff1,onedim=True,minimize=True,correlation_1=True,corr_1=corr[i])[0])\n",
    "    upper_bound1.append(opt_plan_discrete_multiasset(v11,p11,v12,p12,v21,p21,v22,p22,\n",
    "                                                     func=payoff1,onedim=True,minimize=False,correlation_1=True,corr_1=corr[i])[0])\n",
    "    lower_bound2.append(opt_plan_discrete_multiasset(v11,p11,v12,p12,v21,p21,v22,p22,\n",
    "                                                     func=payoff2,onedim=True,minimize=True,correlation_1=True,corr_1=corr[i])[0])\n",
    "    upper_bound2.append(opt_plan_discrete_multiasset(v11,p11,v12,p12,v21,p21,v22,p22,\n",
    "                                                     func=payoff2,onedim=True,minimize=False,correlation_1=True,corr_1=corr[i])[0])\n",
    "    lower_bound3.append(opt_plan_discrete_multiasset(v11,p11,v12,p12,v21,p21,v22,p22,\n",
    "                                                     func=payoff3,onedim=True,minimize=True,correlation_1=True,corr_1=corr[i])[0])\n",
    "    upper_bound3.append(opt_plan_discrete_multiasset(v11,p11,v12,p12,v21,p21,v22,p22,\n",
    "                                                     func=payoff3,onedim=True,minimize=False,correlation_1=True,corr_1=corr[i])[0])\n",
    "    lower_bound4.append(opt_plan_discrete_multiasset(v11,p11,v12,p12,v21,p21,v22,p22,\n",
    "                                                     func=payoff4,onedim=True,minimize=True,correlation_1=True,corr_1=corr[i])[0])\n",
    "    upper_bound4.append(opt_plan_discrete_multiasset(v11,p11,v12,p12,v21,p21,v22,p22,\n",
    "                                                     func=payoff4,onedim=True,minimize=False,correlation_1=True,corr_1=corr[i])[0])"
   ]
  },
  {
   "cell_type": "code",
   "execution_count": 21,
   "metadata": {},
   "outputs": [
    {
     "data": {
      "image/png": "[encoded data removed]",
      "text/plain": [
       "<Figure size 432x288 with 4 Axes>"
      ]
     },
     "metadata": {},
     "output_type": "display_data"
    }
   ],
   "source": [
    "fig, axs = plt.subplots(2, 2)\n",
    "axs[0, 0].plot(corr, lower_bound1,color=\"blue\")\n",
    "axs[0, 0].plot(corr, upper_bound1,color=\"red\")\n",
    "axs[0, 0].plot(corr, np.repeat(lb1,N), color=\"blue\",linestyle = \"--\")\n",
    "axs[0, 0].plot(corr, np.repeat(ub1,N),color=\"red\",linestyle = \"--\")\n",
    "axs[0, 0].set_title(r'$c_4$')\n",
    "axs[0, 0].set_xticklabels([])\n",
    "axs[0, 0].fill_between(corr, lower_bound1, np.repeat(lb1,N), color='aliceblue')\n",
    "axs[0, 0].fill_between(corr, upper_bound1, np.repeat(ub1,N), color='mistyrose')\n",
    "axs[0, 1].plot(corr, lower_bound2,color=\"blue\")\n",
    "axs[0, 1].plot(corr, upper_bound2,color=\"red\")\n",
    "axs[0, 1].plot(corr, np.repeat(lb2,N), color=\"blue\",linestyle = \"--\")\n",
    "axs[0, 1].plot(corr, np.repeat(ub2,N),color=\"red\",linestyle = \"--\")\n",
    "axs[0, 1].set_title(r'$c_5$')\n",
    "axs[0, 1].set_xticklabels([])\n",
    "axs[0, 1].fill_between(corr, lower_bound2, np.repeat(lb2,N), color='aliceblue')\n",
    "axs[0, 1].fill_between(corr, upper_bound2, np.repeat(ub2,N), color='mistyrose')\n",
    "axs[1, 0].plot(corr, lower_bound3,color=\"blue\")\n",
    "axs[1, 0].plot(corr, upper_bound3,color=\"red\")\n",
    "axs[1, 0].plot(corr, np.repeat(lb3,N), color=\"blue\",linestyle = \"--\")\n",
    "axs[1, 0].plot(corr, np.repeat(ub3,N),color=\"red\",linestyle = \"--\")\n",
    "axs[1, 0].set_title(r'$c_6$')\n",
    "axs[1, 0].fill_between(corr, lower_bound3, np.repeat(lb3,N), color='aliceblue')\n",
    "axs[1, 0].fill_between(corr, upper_bound3, np.repeat(ub3,N), color='mistyrose')\n",
    "axs[1, 1].plot(corr, lower_bound4,color=\"blue\")\n",
    "axs[1, 1].plot(corr, upper_bound4,color=\"red\")\n",
    "axs[1, 1].plot(corr, np.repeat(lb4,N), color=\"blue\",linestyle = \"--\")\n",
    "axs[1, 1].plot(corr, np.repeat(ub4,N),color=\"red\",linestyle = \"--\")\n",
    "axs[1, 1].set_title(r'$c_7$')\n",
    "axs[1, 1].fill_between(corr, lower_bound4, np.repeat(lb4,N), color='aliceblue')\n",
    "axs[1, 1].fill_between(corr, upper_bound4, np.repeat(ub4,N), color='mistyrose')\n",
    "axs[0, 0].set(ylabel='Price Bounds')\n",
    "axs[1, 0].set(xlabel='Correlation', ylabel='Price Bounds')\n",
    "axs[1, 1].set(xlabel='Correlation')\n",
    "axs[0,0].grid(True, linestyle='--')\n",
    "axs[0,1].grid(True, linestyle='--')\n",
    "axs[1,0].grid(True, linestyle='--')\n",
    "axs[1,1].grid(True, linestyle='--')\n",
    "plt.savefig('fig_real_data_correlations_improvement_1.eps', format='eps')\n",
    "plt.show()"
   ]
  },
  {
   "cell_type": "markdown",
   "metadata": {},
   "source": [
    "Correlation information at time 2"
   ]
  },
  {
   "cell_type": "code",
   "execution_count": 22,
   "metadata": {
    "scrolled": true
   },
   "outputs": [],
   "source": [
    "### Correlation improvement\n",
    "\n",
    "#Figure 1\n",
    "# Nr. of Discretization Points\n",
    "N = 20\n",
    "\n",
    "lower_bound1 = []\n",
    "upper_bound1 = []\n",
    "lower_bound2 = []\n",
    "upper_bound2 = []\n",
    "lower_bound3 = []\n",
    "upper_bound3 = []\n",
    "lower_bound4 = []\n",
    "upper_bound4 = []\n",
    "corr = np.linspace(minimal_corr_time_2,maximal_corr_time_2,N)\n",
    "lb1 = opt_plan_discrete_multiasset(v11,p11,v12,p12,v21,p21,v22,p22,func=payoff1,onedim=True,minimize=True)[0]\n",
    "ub1 = opt_plan_discrete_multiasset(v11,p11,v12,p12,v21,p21,v22,p22,func=payoff1,onedim=True,minimize=False)[0]\n",
    "lb2 = opt_plan_discrete_multiasset(v11,p11,v12,p12,v21,p21,v22,p22,func=payoff2,onedim=True,minimize=True)[0]\n",
    "ub2 = opt_plan_discrete_multiasset(v11,p11,v12,p12,v21,p21,v22,p22,func=payoff2,onedim=True,minimize=False)[0]\n",
    "lb3 = opt_plan_discrete_multiasset(v11,p11,v12,p12,v21,p21,v22,p22,func=payoff3,onedim=True,minimize=True)[0]\n",
    "ub3 = opt_plan_discrete_multiasset(v11,p11,v12,p12,v21,p21,v22,p22,func=payoff3,onedim=True,minimize=False)[0]\n",
    "lb4 = opt_plan_discrete_multiasset(v11,p11,v12,p12,v21,p21,v22,p22,func=payoff4,onedim=True,minimize=True)[0]\n",
    "ub4 = opt_plan_discrete_multiasset(v11,p11,v12,p12,v21,p21,v22,p22,func=payoff4,onedim=True,minimize=False)[0]\n",
    "\n",
    "for i in range(N):\n",
    "    lower_bound1.append(opt_plan_discrete_multiasset(v11,p11,v12,p12,v21,p21,v22,p22,\n",
    "                                                     func=payoff1,onedim=True,minimize=True,correlation_2=True,corr_2=corr[i])[0])\n",
    "    upper_bound1.append(opt_plan_discrete_multiasset(v11,p11,v12,p12,v21,p21,v22,p22,\n",
    "                                                     func=payoff1,onedim=True,minimize=False,correlation_2=True,corr_2=corr[i])[0])\n",
    "    lower_bound2.append(opt_plan_discrete_multiasset(v11,p11,v12,p12,v21,p21,v22,p22,\n",
    "                                                     func=payoff2,onedim=True,minimize=True,correlation_2=True,corr_2=corr[i])[0])\n",
    "    upper_bound2.append(opt_plan_discrete_multiasset(v11,p11,v12,p12,v21,p21,v22,p22,\n",
    "                                                     func=payoff2,onedim=True,minimize=False,correlation_2=True,corr_2=corr[i])[0])\n",
    "    lower_bound3.append(opt_plan_discrete_multiasset(v11,p11,v12,p12,v21,p21,v22,p22,\n",
    "                                                     func=payoff3,onedim=True,minimize=True,correlation_2=True,corr_2=corr[i])[0])\n",
    "    upper_bound3.append(opt_plan_discrete_multiasset(v11,p11,v12,p12,v21,p21,v22,p22,\n",
    "                                                     func=payoff3,onedim=True,minimize=False,correlation_2=True,corr_2=corr[i])[0])\n",
    "    lower_bound4.append(opt_plan_discrete_multiasset(v11,p11,v12,p12,v21,p21,v22,p22,\n",
    "                                                     func=payoff4,onedim=True,minimize=True,correlation_2=True,corr_2=corr[i])[0])\n",
    "    upper_bound4.append(opt_plan_discrete_multiasset(v11,p11,v12,p12,v21,p21,v22,p22,\n",
    "                                                     func=payoff4,onedim=True,minimize=False,correlation_2=True,corr_2=corr[i])[0])"
   ]
  },
  {
   "cell_type": "markdown",
   "metadata": {},
   "source": [
    "Next, we plot this improvement"
   ]
  },
  {
   "cell_type": "code",
   "execution_count": 23,
   "metadata": {},
   "outputs": [
    {
     "data": {
      "image/png": "[encoded data removed]",
      "text/plain": [
       "<Figure size 432x288 with 4 Axes>"
      ]
     },
     "metadata": {},
     "output_type": "display_data"
    }
   ],
   "source": [
    "fig, axs = plt.subplots(2, 2)\n",
    "axs[0, 0].plot(corr, lower_bound1,color=\"blue\")\n",
    "axs[0, 0].plot(corr, upper_bound1,color=\"red\")\n",
    "axs[0, 0].plot(corr, np.repeat(lb1,N), color=\"blue\",linestyle = \"--\")\n",
    "axs[0, 0].plot(corr, np.repeat(ub1,N),color=\"red\",linestyle = \"--\")\n",
    "axs[0, 0].set_title(r'$c_4$')\n",
    "axs[0, 0].set_xticklabels([])\n",
    "axs[0, 0].fill_between(corr, lower_bound1, np.repeat(lb1,N), color='aliceblue')\n",
    "axs[0, 0].fill_between(corr, upper_bound1, np.repeat(ub1,N), color='mistyrose')\n",
    "axs[0, 1].plot(corr, lower_bound2,color=\"blue\")\n",
    "axs[0, 1].plot(corr, upper_bound2,color=\"red\")\n",
    "axs[0, 1].plot(corr, np.repeat(lb2,N), color=\"blue\",linestyle = \"--\")\n",
    "axs[0, 1].plot(corr, np.repeat(ub2,N),color=\"red\",linestyle = \"--\")\n",
    "axs[0, 1].set_title(r'$c_5$')\n",
    "axs[0, 1].set_xticklabels([])\n",
    "axs[0, 1].fill_between(corr, lower_bound2, np.repeat(lb2,N), color='aliceblue')\n",
    "axs[0, 1].fill_between(corr, upper_bound2, np.repeat(ub2,N), color='mistyrose')\n",
    "axs[1, 0].plot(corr, lower_bound3,color=\"blue\")\n",
    "axs[1, 0].plot(corr, upper_bound3,color=\"red\")\n",
    "axs[1, 0].plot(corr, np.repeat(lb3,N), color=\"blue\",linestyle = \"--\")\n",
    "axs[1, 0].plot(corr, np.repeat(ub3,N),color=\"red\",linestyle = \"--\")\n",
    "axs[1, 0].set_title(r'$c_6$')\n",
    "axs[1, 0].fill_between(corr, lower_bound3, np.repeat(lb3,N), color='aliceblue')\n",
    "axs[1, 0].fill_between(corr, upper_bound3, np.repeat(ub3,N), color='mistyrose')\n",
    "axs[1, 1].plot(corr, lower_bound4,color=\"blue\")\n",
    "axs[1, 1].plot(corr, upper_bound4,color=\"red\")\n",
    "axs[1, 1].plot(corr, np.repeat(lb4,N), color=\"blue\",linestyle = \"--\")\n",
    "axs[1, 1].plot(corr, np.repeat(ub4,N),color=\"red\",linestyle = \"--\")\n",
    "axs[1, 1].set_title(r'$c_7$')\n",
    "axs[1, 1].fill_between(corr, lower_bound4, np.repeat(lb4,N), color='aliceblue')\n",
    "axs[1, 1].fill_between(corr, upper_bound4, np.repeat(ub4,N), color='mistyrose')\n",
    "axs[0, 0].set(ylabel='Price Bounds')\n",
    "axs[1, 0].set(xlabel='Correlation', ylabel='Price Bounds')\n",
    "axs[1, 1].set(xlabel='Correlation')\n",
    "axs[0,0].grid(True, linestyle='--')\n",
    "axs[0,1].grid(True, linestyle='--')\n",
    "axs[1,0].grid(True, linestyle='--')\n",
    "axs[1,1].grid(True, linestyle='--')\n",
    "plt.savefig('fig_real_data_correlations_improvement_2.eps', format='eps')\n",
    "plt.show()"
   ]
  },
  {
   "cell_type": "markdown",
   "metadata": {},
   "source": [
    "# Additional Assumptions"
   ]
  },
  {
   "cell_type": "markdown",
   "metadata": {},
   "source": [
    "Finally we include $\\textbf{additional assumptions}$"
   ]
  },
  {
   "cell_type": "markdown",
   "metadata": {},
   "source": [
    "First, we estimate the historical correlation"
   ]
  },
  {
   "cell_type": "code",
   "execution_count": 24,
   "metadata": {},
   "outputs": [],
   "source": [
    "company_1_time_series = pd.read_csv('csv/company_1_time_series.csv')\n",
    "company_2_time_series = pd.read_csv('csv/company_2_time_series.csv')"
   ]
  },
  {
   "cell_type": "markdown",
   "metadata": {},
   "source": [
    "We first plot the time series"
   ]
  },
  {
   "cell_type": "code",
   "execution_count": 25,
   "metadata": {
    "scrolled": true
   },
   "outputs": [
    {
     "data": {
      "image/png": "[encoded data removed]",
      "text/plain": [
       "<Figure size 432x288 with 1 Axes>"
      ]
     },
     "metadata": {},
     "output_type": "display_data"
    }
   ],
   "source": [
    "start = dt.date(2018, 1, 2)\n",
    "x_range = [0,200,400,644]\n",
    "x_ticks = [start + dt.timedelta(days = np.floor(i*365/252)) for i in x_range]\n",
    "plt.plot(company_1_time_series,'b-',label = \"Apple\")\n",
    "plt.plot(company_2_time_series,'r-',label = \"Microsoft\")\n",
    "plt.legend(loc=\"upper left\")\n",
    "plt.xticks(x_range,x_ticks)\n",
    "plt.show()"
   ]
  },
  {
   "cell_type": "markdown",
   "metadata": {},
   "source": [
    "Normalized Values"
   ]
  },
  {
   "cell_type": "code",
   "execution_count": 26,
   "metadata": {},
   "outputs": [
    {
     "name": "stderr",
     "output_type": "stream",
     "text": [
      "The PostScript backend does not support transparency; partially transparent artists will be rendered opaque.\n",
      "The PostScript backend does not support transparency; partially transparent artists will be rendered opaque.\n"
     ]
    },
    {
     "data": {
      "image/png": "[encoded data removed]",
      "text/plain": [
       "<Figure size 432x288 with 1 Axes>"
      ]
     },
     "metadata": {},
     "output_type": "display_data"
    }
   ],
   "source": [
    "start = dt.date(2018, 1, 2)\n",
    "x_range = [0,252,504,644]\n",
    "x_ticks = [start + dt.timedelta(days = np.floor(i*365/252)) for i in x_range]\n",
    "plt.plot(company_1_time_series/company_1_time_series.CLOSE[0],'b-',label = \"Apple\")\n",
    "plt.plot(company_2_time_series/company_2_time_series.CLOSE[0],'r-',label = \"Microsoft\")\n",
    "plt.legend(loc=\"upper left\")\n",
    "plt.xticks(x_range,x_ticks)\n",
    "plt.savefig('correlation_apple_microsoft.eps', format='eps')\n",
    "plt.show()"
   ]
  },
  {
   "cell_type": "markdown",
   "metadata": {},
   "source": [
    "# Bootstrapping-Approach"
   ]
  },
  {
   "cell_type": "markdown",
   "metadata": {},
   "source": [
    "Distribution of the daily returns \n",
    "$\n",
    "\\frac{S_{t_{i+1}}-S_{t_i}}{S_{t_i}}\n",
    "$"
   ]
  },
  {
   "cell_type": "code",
   "execution_count": 27,
   "metadata": {},
   "outputs": [
    {
     "name": "stderr",
     "output_type": "stream",
     "text": [
      "<ipython-input-27-ce9f5351a030>:8: UserWarning: Matplotlib is currently using module://ipykernel.pylab.backend_inline, which is a non-GUI backend, so cannot show the figure.\n",
      "  fig.show()\n"
     ]
    },
    {
     "data": {
      "image/png": "[encoded data removed]",
      "text/plain": [
       "<Figure size 432x288 with 2 Axes>"
      ]
     },
     "metadata": {},
     "output_type": "display_data"
    }
   ],
   "source": [
    "returns_1 = np.diff(company_1_time_series['CLOSE'])/company_1_time_series['CLOSE'][:-1]\n",
    "returns_2 = np.diff(company_2_time_series['CLOSE'])/company_2_time_series['CLOSE'][:-1]\n",
    "fig, ax = plt.subplots(1,2)\n",
    "ax[0].hist(returns_1,label = \"Apple\",bins = 30,color =\"blue\")\n",
    "ax[0].legend()\n",
    "ax[1].hist(returns_2,label = \"Microsoft\",bins = 30)\n",
    "ax[1].legend()\n",
    "fig.show()\n"
   ]
  },
  {
   "cell_type": "code",
   "execution_count": 28,
   "metadata": {},
   "outputs": [],
   "source": [
    "N = 100000 # Number of Simulations for Bootstrapping\n",
    "S_01 = company_1_time_series['CLOSE'][len(company_1_time_series['CLOSE'])-1]\n",
    "S_02 = company_2_time_series['CLOSE'][len(company_2_time_series['CLOSE'])-1]\n",
    "t1 = 11\n",
    "t2 = 32\n",
    "results_t1_asset_1 = []\n",
    "results_t1_asset_2 = []\n",
    "results_t2_asset_1 = []\n",
    "results_t2_asset_2 = []\n",
    "for i in range(N):\n",
    "    path1 = np.zeros(t2)\n",
    "    path1[0] =  S_01\n",
    "    path2 = np.zeros(t2)\n",
    "    path2[0] =  S_02\n",
    "    for j in range(1,t2):\n",
    "        random_index = random.choice([i for i in range(len(returns_1))])\n",
    "        path1[j] = path1[j-1]+returns_1[random_index]*path1[j-1]\n",
    "        path2[j] = path2[j-1]+returns_2[random_index]*path2[j-1]\n",
    "    results_t1_asset_1.append(path1[t1-1])\n",
    "    results_t1_asset_2.append(path2[t1-1])\n",
    "    results_t2_asset_1.append(path1[t2-1])\n",
    "    results_t2_asset_2.append(path2[t2-1])"
   ]
  },
  {
   "cell_type": "markdown",
   "metadata": {},
   "source": [
    "Estimation of Correlation"
   ]
  },
  {
   "cell_type": "code",
   "execution_count": 29,
   "metadata": {},
   "outputs": [
    {
     "name": "stdout",
     "output_type": "stream",
     "text": [
      "Estimated Correlation at time 1: 0.7956197707820005\n",
      "Estimated Correlation at time 2: 0.7952647051839692\n"
     ]
    }
   ],
   "source": [
    "corr_p_t1, p_value_t1 = pearsonr(results_t1_asset_1, results_t1_asset_2)\n",
    "corr_p_t2, p_value_t2 = pearsonr(results_t2_asset_1, results_t2_asset_2)\n",
    "print(\"Estimated Correlation at time 1: {}\".format(corr_p_t1))\n",
    "print(\"Estimated Correlation at time 2: {}\".format(corr_p_t2))"
   ]
  },
  {
   "cell_type": "markdown",
   "metadata": {},
   "source": [
    "Confidence Interval (Steiger's Z-Test)"
   ]
  },
  {
   "cell_type": "code",
   "execution_count": 30,
   "metadata": {
    "scrolled": true
   },
   "outputs": [
    {
     "name": "stdout",
     "output_type": "stream",
     "text": [
      "99.0% Confidence Interval at time t1: [0.7926109873709555,0.7985898074644255]\n",
      "99.0% Confidence Interval at time t2: [0.7922512994370697,0.7982393218832157]\n"
     ]
    }
   ],
   "source": [
    "alpha = 0.01\n",
    "\n",
    "def pearsonr_ci(x,y,alpha=0.01):\n",
    "    r, p = stats.pearsonr(x,y) \n",
    "    r_z = np.arctanh(r) # Fisher-Transformation\n",
    "    se = 1/np.sqrt(len(x)-3)\n",
    "    z = stats.norm.ppf(1-alpha/2)\n",
    "    lo_z, hi_z = r_z-z*se, r_z+z*se\n",
    "    lo, hi = np.tanh((lo_z, hi_z))\n",
    "    return r, p, lo, hi\n",
    "\n",
    "_,_,low,high = pearsonr_ci(results_t1_asset_1, results_t1_asset_2,alpha)\n",
    "print(\"{p}% Confidence Interval at time t1: [{l},{h}]\".format(p = 100*(1-alpha), l = low,h = high))\n",
    "_,_,low,high = pearsonr_ci(results_t2_asset_1, results_t2_asset_2,alpha)\n",
    "print(\"{p}% Confidence Interval at time t2: [{l},{h}]\".format(p = 100*(1-alpha), l = low,h = high))\n",
    "\n"
   ]
  },
  {
   "cell_type": "markdown",
   "metadata": {},
   "source": [
    "We compute the price bounds under additional assumptions"
   ]
  },
  {
   "cell_type": "markdown",
   "metadata": {},
   "source": [
    "# Bounds without Assumptions"
   ]
  },
  {
   "cell_type": "code",
   "execution_count": 33,
   "metadata": {},
   "outputs": [
    {
     "name": "stdout",
     "output_type": "stream",
     "text": [
      "No additional assumptions  \n",
      " ------------ \n",
      "31.9339 | 37.7576\n",
      "55.5357 | 66.5152 \n",
      "0.0000 | 31.6319  \n",
      "0.0000 | 0.0116 \n",
      "\n"
     ]
    }
   ],
   "source": [
    "## First Row of Table\n",
    "m12 = (opt_plan_discrete_multiasset(v11,p11,v12,p12,v21,p21,v22,p22,func=payoff1,onedim=True,minimize=True)[0])\n",
    "m13 = (opt_plan_discrete_multiasset(v11,p11,v12,p12,v21,p21,v22,p22,func=payoff1,onedim=True,minimize=False)[0])\n",
    "m12=round(m12,4)\n",
    "m13=round(m13,4)\n",
    "table_text = \"No additional assumptions  \\n ------------ \\n\" + \"{m12:.4f} | {m13:.4f}\\n\"\n",
    "\n",
    "## Next Row of Table\n",
    "m22 = (opt_plan_discrete_multiasset(v11,p11,v12,p12,v21,p21,v22,p22,func=payoff2,onedim=True,minimize=True)[0])\n",
    "m23 = (opt_plan_discrete_multiasset(v11,p11,v12,p12,v21,p21,v22,p22,func=payoff2,onedim=True,minimize=False)[0])\n",
    "m22=round(m22,4)\n",
    "m23=round(m23,4)\n",
    "table_text = table_text+\"{m22:.4f} | {m23:.4f} \\n\"\n",
    "\n",
    "## Next Row of Table\n",
    "m32 = (opt_plan_discrete_multiasset(v11,p11,v12,p12,v21,p21,v22,p22,func=payoff3,onedim=True,minimize=True)[0])\n",
    "m33 = (opt_plan_discrete_multiasset(v11,p11,v12,p12,v21,p21,v22,p22,func=payoff3,onedim=True,minimize=False)[0])\n",
    "m32=round(m32,4)\n",
    "m33=round(m33,4)\n",
    "table_text = table_text+\"{m32:.4f} | {m33:.4f}  \\n\"\n",
    "\n",
    "## Next Row of Table\n",
    "m42 = (opt_plan_discrete_multiasset(v11,p11,v12,p12,v21,p21,v22,p22,func=payoff4,onedim=True,minimize=True)[0])\n",
    "m43 = (opt_plan_discrete_multiasset(v11,p11,v12,p12,v21,p21,v22,p22,func=payoff4,onedim=True,minimize=False)[0])\n",
    "m42=round(m42,4)\n",
    "m43=round(m43,4)\n",
    "table_text = table_text+\"{m42:.4f} | {m43:.4f} \\n\"\n",
    "\n",
    "print(table_text.format(m12 =m12,m13=m13,m22=m22,m23=m23,m32=m32,m33=m33,m42=m42,m43=m43))"
   ]
  },
  {
   "cell_type": "markdown",
   "metadata": {},
   "source": [
    "### 1) Constant correlation"
   ]
  },
  {
   "cell_type": "code",
   "execution_count": 34,
   "metadata": {},
   "outputs": [
    {
     "name": "stdout",
     "output_type": "stream",
     "text": [
      "Constant Correlation \n",
      " ------------ \n",
      "31.9344 | 37.7576  \n",
      "55.5357 | 66.3507 \n",
      "0.0000 | 31.6319 \n",
      "0.0000 | 0.0116 \n",
      "\n"
     ]
    }
   ],
   "source": [
    "## First Row of Table\n",
    "m12 = (opt_plan_discrete_multiasset(v11,p11,v12,p12,v21,p21,v22,p22,func=payoff1,onedim=True,minimize=True,same_correlation = True)[0])\n",
    "m13 = (opt_plan_discrete_multiasset(v11,p11,v12,p12,v21,p21,v22,p22,func=payoff1,onedim=True,minimize=False,same_correlation = True)[0])\n",
    "m12=round(m12,4)\n",
    "m13=round(m13,4)\n",
    "table_text = \"Constant Correlation \\n ------------ \\n\" + \"{m12:.4f} | {m13:.4f}  \\n\"\n",
    "\n",
    "## First Row of Table\n",
    "m22 = (opt_plan_discrete_multiasset(v11,p11,v12,p12,v21,p21,v22,p22,func=payoff2,onedim=True,minimize=True,same_correlation = True)[0])\n",
    "m23 = (opt_plan_discrete_multiasset(v11,p11,v12,p12,v21,p21,v22,p22,func=payoff2,onedim=True,minimize=False,same_correlation = True)[0])\n",
    "m22=round(m22,4)\n",
    "m23=round(m23,4)\n",
    "table_text = table_text+\"{m22:.4f} | {m23:.4f} \\n\"\n",
    "\n",
    "## First Row of Table\n",
    "m32 = (opt_plan_discrete_multiasset(v11,p11,v12,p12,v21,p21,v22,p22,func=payoff3,onedim=True,minimize=True,same_correlation = True)[0])\n",
    "m33 = (opt_plan_discrete_multiasset(v11,p11,v12,p12,v21,p21,v22,p22,func=payoff3,onedim=True,minimize=False,same_correlation = True)[0])\n",
    "m32=round(m32,4)\n",
    "m33=round(m33,4)\n",
    "table_text = table_text+\"{m32:.4f} | {m33:.4f} \\n\"\n",
    "\n",
    "## First Row of Table\n",
    "m42 = (opt_plan_discrete_multiasset(v11,p11,v12,p12,v21,p21,v22,p22,func=payoff4,onedim=True,minimize=True,same_correlation = True)[0])\n",
    "m43 = (opt_plan_discrete_multiasset(v11,p11,v12,p12,v21,p21,v22,p22,func=payoff4,onedim=True,minimize=False,same_correlation = True)[0])\n",
    "m42=round(m42,4)\n",
    "m43=round(m43,4)\n",
    "table_text = table_text+\"{m42:.4f} | {m43:.4f} \\n\"\n",
    "\n",
    "print(table_text.format(m12 =m12,m13=m13,m22=m22,m23=m23,m32=m32,m33=m33,m42=m42,m43=m43))"
   ]
  },
  {
   "cell_type": "markdown",
   "metadata": {},
   "source": [
    "### 2) Constant correlation, lower bounded 0.75"
   ]
  },
  {
   "cell_type": "code",
   "execution_count": 36,
   "metadata": {},
   "outputs": [
    {
     "name": "stdout",
     "output_type": "stream",
     "text": [
      "Constant Correlation, lower bounded \n",
      " ------------ \n",
      "35.3573 | 37.7576  \n",
      "55.5398 | 60.6242\n",
      "0.0000 | 2.1662\n",
      "0.0023 | 0.0116\n",
      "\n"
     ]
    }
   ],
   "source": [
    "corr_p=0.75\n",
    "## First Row of Table\n",
    "m12 = (opt_plan_discrete_multiasset(v11,p11,v12,p12,v21,p21,v22,p22,func=payoff1,onedim=True,minimize=True,same_correlation = True,q_corr_greater_p_const= corr_p,q_corr_greater_p = True)[0])\n",
    "m13 = (opt_plan_discrete_multiasset(v11,p11,v12,p12,v21,p21,v22,p22,func=payoff1,onedim=True,minimize=False,same_correlation = True,q_corr_greater_p_const= corr_p,q_corr_greater_p = True)[0])\n",
    "m12=round(m12,4)\n",
    "m13=round(m13,4)\n",
    "table_text = \"Constant Correlation, lower bounded \\n ------------ \\n\" + \"{m12:.4f} | {m13:.4f}  \\n\"\n",
    "\n",
    "## First Row of Table\n",
    "m22 = (opt_plan_discrete_multiasset(v11,p11,v12,p12,v21,p21,v22,p22,func=payoff2,onedim=True,minimize=True,same_correlation = True,q_corr_greater_p_const= corr_p,q_corr_greater_p = True)[0])\n",
    "m23 = (opt_plan_discrete_multiasset(v11,p11,v12,p12,v21,p21,v22,p22,func=payoff2,onedim=True,minimize=False,same_correlation = True,q_corr_greater_p_const= corr_p,q_corr_greater_p = True)[0])\n",
    "m22=round(m22,4)\n",
    "m23=round(m23,4)\n",
    "table_text = table_text+\"{m22:.4f} | {m23:.4f}\\n\"\n",
    "\n",
    "## First Row of Table\n",
    "m32 = (opt_plan_discrete_multiasset(v11,p11,v12,p12,v21,p21,v22,p22,func=payoff3,onedim=True,minimize=True,same_correlation = True,q_corr_greater_p_const= corr_p,q_corr_greater_p = True)[0])\n",
    "m33 = (opt_plan_discrete_multiasset(v11,p11,v12,p12,v21,p21,v22,p22,func=payoff3,onedim=True,minimize=False,same_correlation = True,q_corr_greater_p_const= corr_p,q_corr_greater_p = True)[0])\n",
    "m32=round(m32,4)\n",
    "m33=round(m33,4)\n",
    "table_text = table_text+\"{m32:.4f} | {m33:.4f}\\n\"\n",
    "\n",
    "## First Row of Table\n",
    "m42 = (opt_plan_discrete_multiasset(v11,p11,v12,p12,v21,p21,v22,p22,func=payoff4,onedim=True,minimize=True,same_correlation = True,q_corr_greater_p_const= corr_p,q_corr_greater_p = True)[0])\n",
    "m43 = (opt_plan_discrete_multiasset(v11,p11,v12,p12,v21,p21,v22,p22,func=payoff4,onedim=True,minimize=False,same_correlation = True,q_corr_greater_p_const= corr_p,q_corr_greater_p = True)[0])\n",
    "m42=round(m42,4)\n",
    "m43=round(m43,4)\n",
    "table_text = table_text+\"{m42:.4f} | {m43:.4f}\\n\"\n",
    "\n",
    "\n",
    "print(table_text.format(m12 =m12,m13=m13,m22=m22,m23=m23,m32=m32,m33=m33,m42=m42,m43=m43))"
   ]
  },
  {
   "cell_type": "markdown",
   "metadata": {},
   "source": [
    "### 3) Only lower bounded with 0.75 but no constant correlation"
   ]
  },
  {
   "cell_type": "code",
   "execution_count": 37,
   "metadata": {},
   "outputs": [
    {
     "name": "stdout",
     "output_type": "stream",
     "text": [
      "Correlation lower bounded \n",
      " ------------ \n",
      "34.4798 | 37.7576  \n",
      "55.5359 | 64.0369 \n",
      "0.0000 | 2.1662 \n",
      "0.0000 | 0.0116  \n",
      "\n"
     ]
    }
   ],
   "source": [
    "corr_p=0.75\n",
    "## First Row of Table\n",
    "m12 = (opt_plan_discrete_multiasset(v11,p11,v12,p12,v21,p21,v22,p22,func=payoff1,onedim=True,minimize=True,q_corr_greater_p_const= corr_p,q_corr_greater_p = True)[0])\n",
    "m13 = (opt_plan_discrete_multiasset(v11,p11,v12,p12,v21,p21,v22,p22,func=payoff1,onedim=True,minimize=False,q_corr_greater_p_const= corr_p,q_corr_greater_p = True)[0])\n",
    "m12=round(m12,4)\n",
    "m13=round(m13,4)\n",
    "table_text = \"Correlation lower bounded \\n ------------ \\n\" + \"{m12:.4f} | {m13:.4f}  \\n\"\n",
    "\n",
    "## First Row of Table\n",
    "m22 = (opt_plan_discrete_multiasset(v11,p11,v12,p12,v21,p21,v22,p22,func=payoff2,onedim=True,minimize=True,q_corr_greater_p_const= corr_p,q_corr_greater_p = True)[0])\n",
    "m23 = (opt_plan_discrete_multiasset(v11,p11,v12,p12,v21,p21,v22,p22,func=payoff2,onedim=True,minimize=False,q_corr_greater_p_const= corr_p,q_corr_greater_p = True)[0])\n",
    "m22=round(m22,4)\n",
    "m23=round(m23,4)\n",
    "table_text = table_text+\"{m22:.4f} | {m23:.4f} \\n\"\n",
    "\n",
    "## First Row of Table\n",
    "m32 = (opt_plan_discrete_multiasset(v11,p11,v12,p12,v21,p21,v22,p22,func=payoff3,onedim=True,minimize=True,q_corr_greater_p_const= corr_p,q_corr_greater_p = True)[0])\n",
    "m33 = (opt_plan_discrete_multiasset(v11,p11,v12,p12,v21,p21,v22,p22,func=payoff3,onedim=True,minimize=False,q_corr_greater_p_const= corr_p,q_corr_greater_p = True)[0])\n",
    "m32=round(m32,4)\n",
    "m33=round(m33,4)\n",
    "table_text = table_text+\"{m32:.4f} | {m33:.4f} \\n\"\n",
    "\n",
    "## First Row of Table\n",
    "m42 = (opt_plan_discrete_multiasset(v11,p11,v12,p12,v21,p21,v22,p22,func=payoff4,onedim=True,minimize=True,q_corr_greater_p_const= corr_p,q_corr_greater_p = True)[0])\n",
    "m43 = (opt_plan_discrete_multiasset(v11,p11,v12,p12,v21,p21,v22,p22,func=payoff4,onedim=True,minimize=False,q_corr_greater_p_const= corr_p,q_corr_greater_p = True)[0])\n",
    "m42=round(m42,4)\n",
    "m43=round(m43,4)\n",
    "table_text = table_text+\"{m42:.4f} | {m43:.4f}  \\n\"\n",
    "\n",
    "\n",
    "print(table_text.format(m12 =m12,m13=m13,m22=m22,m23=m23,m32=m32,m33=m33,m42=m42,m43=m43))"
   ]
  },
  {
   "cell_type": "markdown",
   "metadata": {},
   "source": [
    "### 4) Constant correlation, lower bounded 0.79"
   ]
  },
  {
   "cell_type": "code",
   "execution_count": 38,
   "metadata": {},
   "outputs": [
    {
     "name": "stdout",
     "output_type": "stream",
     "text": [
      "Constant Correlation, lower bounded \n",
      " ------------ \n",
      "35.6111 | 37.7576  \n",
      "55.5802 | 59.9411\n",
      "0.0000 | 0.4070\n",
      "0.0028 | 0.0116\n",
      "\n"
     ]
    }
   ],
   "source": [
    "corr_p=0.79\n",
    "## First Row of Table\n",
    "m12 = (opt_plan_discrete_multiasset(v11,p11,v12,p12,v21,p21,v22,p22,func=payoff1,onedim=True,minimize=True,same_correlation = True,q_corr_greater_p_const= corr_p,q_corr_greater_p = True)[0])\n",
    "m13 = (opt_plan_discrete_multiasset(v11,p11,v12,p12,v21,p21,v22,p22,func=payoff1,onedim=True,minimize=False,same_correlation = True,q_corr_greater_p_const= corr_p,q_corr_greater_p = True)[0])\n",
    "m12=round(m12,4)\n",
    "m13=round(m13,4)\n",
    "table_text = \"Constant Correlation, lower bounded \\n ------------ \\n\" + \"{m12:.4f} | {m13:.4f}  \\n\"\n",
    "\n",
    "## First Row of Table\n",
    "m22 = (opt_plan_discrete_multiasset(v11,p11,v12,p12,v21,p21,v22,p22,func=payoff2,onedim=True,minimize=True,same_correlation = True,q_corr_greater_p_const= corr_p,q_corr_greater_p = True)[0])\n",
    "m23 = (opt_plan_discrete_multiasset(v11,p11,v12,p12,v21,p21,v22,p22,func=payoff2,onedim=True,minimize=False,same_correlation = True,q_corr_greater_p_const= corr_p,q_corr_greater_p = True)[0])\n",
    "m22=round(m22,4)\n",
    "m23=round(m23,4)\n",
    "table_text = table_text+\"{m22:.4f} | {m23:.4f}\\n\"\n",
    "\n",
    "## First Row of Table\n",
    "m32 = (opt_plan_discrete_multiasset(v11,p11,v12,p12,v21,p21,v22,p22,func=payoff3,onedim=True,minimize=True,same_correlation = True,q_corr_greater_p_const= corr_p,q_corr_greater_p = True)[0])\n",
    "m33 = (opt_plan_discrete_multiasset(v11,p11,v12,p12,v21,p21,v22,p22,func=payoff3,onedim=True,minimize=False,same_correlation = True,q_corr_greater_p_const= corr_p,q_corr_greater_p = True)[0])\n",
    "m32=round(m32,4)\n",
    "m33=round(m33,4)\n",
    "table_text = table_text+\"{m32:.4f} | {m33:.4f}\\n\"\n",
    "\n",
    "## First Row of Table\n",
    "m42 = (opt_plan_discrete_multiasset(v11,p11,v12,p12,v21,p21,v22,p22,func=payoff4,onedim=True,minimize=True,same_correlation = True,q_corr_greater_p_const= corr_p,q_corr_greater_p = True)[0])\n",
    "m43 = (opt_plan_discrete_multiasset(v11,p11,v12,p12,v21,p21,v22,p22,func=payoff4,onedim=True,minimize=False,same_correlation = True,q_corr_greater_p_const= corr_p,q_corr_greater_p = True)[0])\n",
    "m42=round(m42,4)\n",
    "m43=round(m43,4)\n",
    "table_text = table_text+\"{m42:.4f} | {m43:.4f}\\n\"\n",
    "\n",
    "\n",
    "print(table_text.format(m12 =m12,m13=m13,m22=m22,m23=m23,m32=m32,m33=m33,m42=m42,m43=m43))"
   ]
  },
  {
   "cell_type": "markdown",
   "metadata": {},
   "source": [
    "### 5) Only lower bounded with 0.79 but no constant correlation"
   ]
  },
  {
   "cell_type": "code",
   "execution_count": 39,
   "metadata": {},
   "outputs": [
    {
     "name": "stdout",
     "output_type": "stream",
     "text": [
      "Constant Correlation, lower bounded \n",
      " ------------ \n",
      "35.6111 | 37.7576  \n",
      "55.5802 | 59.9411\n",
      "0.0000 | 0.4070\n",
      "0.0028 | 0.0116\n",
      "\n"
     ]
    }
   ],
   "source": [
    "corr_p=0.79\n",
    "## First Row of Table\n",
    "m12 = (opt_plan_discrete_multiasset(v11,p11,v12,p12,v21,p21,v22,p22,func=payoff1,onedim=True,minimize=True,same_correlation = True,q_corr_greater_p_const= corr_p,q_corr_greater_p = True)[0])\n",
    "m13 = (opt_plan_discrete_multiasset(v11,p11,v12,p12,v21,p21,v22,p22,func=payoff1,onedim=True,minimize=False,same_correlation = True,q_corr_greater_p_const= corr_p,q_corr_greater_p = True)[0])\n",
    "m12=round(m12,4)\n",
    "m13=round(m13,4)\n",
    "table_text = \"Constant Correlation, lower bounded \\n ------------ \\n\" + \"{m12:.4f} | {m13:.4f}  \\n\"\n",
    "\n",
    "## First Row of Table\n",
    "m22 = (opt_plan_discrete_multiasset(v11,p11,v12,p12,v21,p21,v22,p22,func=payoff2,onedim=True,minimize=True,same_correlation = True,q_corr_greater_p_const= corr_p,q_corr_greater_p = True)[0])\n",
    "m23 = (opt_plan_discrete_multiasset(v11,p11,v12,p12,v21,p21,v22,p22,func=payoff2,onedim=True,minimize=False,same_correlation = True,q_corr_greater_p_const= corr_p,q_corr_greater_p = True)[0])\n",
    "m22=round(m22,4)\n",
    "m23=round(m23,4)\n",
    "table_text = table_text+\"{m22:.4f} | {m23:.4f}\\n\"\n",
    "\n",
    "## First Row of Table\n",
    "m32 = (opt_plan_discrete_multiasset(v11,p11,v12,p12,v21,p21,v22,p22,func=payoff3,onedim=True,minimize=True,same_correlation = True,q_corr_greater_p_const= corr_p,q_corr_greater_p = True)[0])\n",
    "m33 = (opt_plan_discrete_multiasset(v11,p11,v12,p12,v21,p21,v22,p22,func=payoff3,onedim=True,minimize=False,same_correlation = True,q_corr_greater_p_const= corr_p,q_corr_greater_p = True)[0])\n",
    "m32=round(m32,4)\n",
    "m33=round(m33,4)\n",
    "table_text = table_text+\"{m32:.4f} | {m33:.4f}\\n\"\n",
    "\n",
    "## First Row of Table\n",
    "m42 = (opt_plan_discrete_multiasset(v11,p11,v12,p12,v21,p21,v22,p22,func=payoff4,onedim=True,minimize=True,same_correlation = True,q_corr_greater_p_const= corr_p,q_corr_greater_p = True)[0])\n",
    "m43 = (opt_plan_discrete_multiasset(v11,p11,v12,p12,v21,p21,v22,p22,func=payoff4,onedim=True,minimize=False,same_correlation = True,q_corr_greater_p_const= corr_p,q_corr_greater_p = True)[0])\n",
    "m42=round(m42,4)\n",
    "m43=round(m43,4)\n",
    "table_text = table_text+\"{m42:.4f} | {m43:.4f}\\n\"\n",
    "\n",
    "\n",
    "print(table_text.format(m12 =m12,m13=m13,m22=m22,m23=m23,m32=m32,m33=m33,m42=m42,m43=m43))"
   ]
  }
 ],
 "metadata": {
  "kernelspec": {
   "display_name": "Python 3",
   "language": "python",
   "name": "python3"
  },
  "language_info": {
   "codemirror_mode": {
    "name": "ipython",
    "version": 3
   },
   "file_extension": ".py",
   "mimetype": "text/x-python",
   "name": "python",
   "nbconvert_exporter": "python",
   "pygments_lexer": "ipython3",
   "version": "3.8.8"
  }
 },
 "nbformat": 4,
 "nbformat_minor": 4
}
