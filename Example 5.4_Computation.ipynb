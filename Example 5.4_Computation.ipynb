{
 "cells": [
  {
   "cell_type": "markdown",
   "metadata": {},
   "source": [
    "# Example 5.4 / Computations"
   ]
  },
  {
   "cell_type": "markdown",
   "metadata": {
    "id": "FBSWISz0MoC8"
   },
   "source": [
    "We aim at computing bounds under copula information."
   ]
  },
  {
   "cell_type": "code",
   "execution_count": 1,
   "metadata": {
    "colab": {
     "base_uri": "https://localhost:8080/"
    },
    "id": "ZgWQlJxcMoDA",
    "outputId": "ac8555b3-86bd-4cfc-b069-04f8cd6077e5",
    "scrolled": true
   },
   "outputs": [
    {
     "name": "stdout",
     "output_type": "stream",
     "text": [
      "Necessary Packages imported\n"
     ]
    }
   ],
   "source": [
    "import numpy as np\n",
    "import pandas as pd\n",
    "import matplotlib.pyplot as plt\n",
    "from matplotlib import rc\n",
    "from matplotlib import style\n",
    "from matplotlib.ticker import (AutoMinorLocator, MultipleLocator)\n",
    "style.use('ggplot')\n",
    "print(\"Necessary Packages imported\")\n",
    "import tensorflow as tf\n",
    "from tensorflow import keras\n",
    "from tensorflow.keras import layers\n",
    "from scipy.stats import multivariate_normal\n",
    "from tqdm import tqdm"
   ]
  },
  {
   "cell_type": "markdown",
   "metadata": {},
   "source": [
    "If on GPU:"
   ]
  },
  {
   "cell_type": "code",
   "execution_count": 2,
   "metadata": {},
   "outputs": [],
   "source": [
    "physical_devices = tf.config.list_physical_devices('GPU') \n",
    "tf.config.experimental.set_memory_growth(physical_devices[0], True)"
   ]
  },
  {
   "cell_type": "markdown",
   "metadata": {
    "id": "G-ljDiEPMoDD"
   },
   "source": [
    "Define the functions for the computation of the bounds using a similar neural network approach as in \"Bounds on Multi-asset Derivatives\n",
    "via Neural Networks\" by\n",
    "Luca De Gennaro Aquino, Carole Bernard"
   ]
  },
  {
   "cell_type": "code",
   "execution_count": 3,
   "metadata": {
    "id": "KGcun4arMoDE"
   },
   "outputs": [],
   "source": [
    "def compute_bound(payoff,\n",
    "                  generate_samples_mu1t1,\n",
    "                  generate_samples_mu2t1,\n",
    "                  generate_samples_mu3t1,\n",
    "                  generate_samples_mu1t2,\n",
    "                  generate_samples_mu2t2,\n",
    "                  generate_samples_mu3t2,\n",
    "                  lower_bound=True,\n",
    "                  batch_size=2**8,\n",
    "                  gamma = 100,\n",
    "                  max_iter = 20000,\n",
    "                  inner_iter = 10,\n",
    "                  nr_neurons = 128,\n",
    "                  l_r = 0.001,\n",
    "                  depth = 1,\n",
    "                  copula_payoffs=[],\n",
    "                  copula_prices=[],\n",
    "                 martingale = True):\n",
    "    # Number of additional constraints:\n",
    "    N = len(copula_prices)\n",
    "    if N>0:\n",
    "        alpha = tf.Variable(np.ones([N,1]),trainable=True,dtype = \"float32\")\n",
    "    # Create Tensors for the Input\n",
    "    def build_model(martingale):\n",
    "        \n",
    "        #t1\n",
    "        x_1t1 = keras.Input(shape=(1,),name = \"x_1t1\")\n",
    "        x_2t1 = keras.Input(shape=(1,),name = \"x_2t1\")\n",
    "        x_3t1 = keras.Input(shape=(1,),name = \"x_3t1\")\n",
    "        x_t1 = layers.concatenate([x_1t1, x_2t1, x_3t1])\n",
    "        \n",
    "        #t2\n",
    "        x_1t2 = keras.Input(shape=(1,),name = \"x_1t2\")\n",
    "        x_2t2 = keras.Input(shape=(1,),name = \"x_2t2\")\n",
    "        x_3t2 = keras.Input(shape=(1,),name = \"x_3t2\")\n",
    "\n",
    "        \n",
    "        # Create the NN       \n",
    "        u_1t1 = layers.Dense(nr_neurons,activation = \"relu\")(x_1t1)\n",
    "        u_2t1 = layers.Dense(nr_neurons,activation = \"relu\")(x_2t1)\n",
    "        u_3t1 = layers.Dense(nr_neurons,activation = \"relu\")(x_3t1)\n",
    "        u_1t2 = layers.Dense(nr_neurons,activation = \"relu\")(x_1t2)\n",
    "        u_2t2 = layers.Dense(nr_neurons,activation = \"relu\")(x_2t2)\n",
    "        u_3t2 = layers.Dense(nr_neurons,activation = \"relu\")(x_3t2)\n",
    "        \n",
    "        if martingale:\n",
    "            H_1 = layers.Dense(nr_neurons,activation = \"relu\")(x_t1)\n",
    "            H_2 = layers.Dense(nr_neurons,activation = \"relu\")(x_t1)\n",
    "            H_3 = layers.Dense(nr_neurons,activation = \"relu\")(x_t1)\n",
    "        \n",
    "        # Create deep layers\n",
    "        for i in range(depth):\n",
    "            u_1t1 = layers.Dense(nr_neurons,activation = \"relu\")(u_1t1)\n",
    "            u_2t1 = layers.Dense(nr_neurons,activation = \"relu\")(u_2t1)\n",
    "            u_3t1 = layers.Dense(nr_neurons,activation = \"relu\")(u_3t1)\n",
    "            u_1t2 = layers.Dense(nr_neurons,activation = \"relu\")(u_1t2)\n",
    "            u_2t2 = layers.Dense(nr_neurons,activation = \"relu\")(u_2t2)\n",
    "            u_3t2 = layers.Dense(nr_neurons,activation = \"relu\")(u_3t2)\n",
    "            if martingale:\n",
    "                H_1 = layers.Dense(nr_neurons,activation = \"relu\")(H_1)\n",
    "                H_2 = layers.Dense(nr_neurons,activation = \"relu\")(H_2)\n",
    "                H_3 = layers.Dense(nr_neurons,activation = \"relu\")(H_3)\n",
    "            \n",
    "        # Output Layers\n",
    "        u_1t1_out = layers.Dense(1)(u_1t1)\n",
    "        u_2t1_out = layers.Dense(1)(u_2t1)\n",
    "        u_3t1_out = layers.Dense(1)(u_3t1)\n",
    "        u_1t2_out = layers.Dense(1)(u_1t2)\n",
    "        u_2t2_out = layers.Dense(1)(u_2t2)\n",
    "        u_3t2_out = layers.Dense(1)(u_3t2)\n",
    "        if martingale:\n",
    "            H_1_out = layers.Dense(1)(H_1)\n",
    "            H_2_out = layers.Dense(1)(H_2)\n",
    "            H_3_out = layers.Dense(1)(H_3)\n",
    "            model = keras.Model(inputs=[x_1t1,x_2t1,x_3t1,x_1t2,x_2t2,x_3t2],\n",
    "                                outputs = [u_1t1_out,u_2t1_out,u_3t1_out,\n",
    "                                           u_1t2_out,u_2t2_out,u_3t2_out,\n",
    "                                           H_1_out,H_2_out,H_3_out])\n",
    "        else:\n",
    "            model = keras.Model(inputs=[x_1t1,x_2t1,x_3t1,x_1t2,x_2t2,x_3t2],\n",
    "                    outputs = [u_1t1_out,u_2t1_out,u_3t1_out,\n",
    "                               u_1t2_out,u_2t2_out,u_3t2_out])\n",
    "        return model\n",
    "    \n",
    "    # Loss function\n",
    "    def loss(model,x_1t1,x_2t1,x_3t1,x_1t2,x_2t2,x_3t2,martingale):\n",
    "        if martingale:\n",
    "            u_1t1, u_2t1, u_3t1, u_1t2, u_2t2, u_3t2, H_1, H_2, H_3 = model({\"x_1t1\":x_1t1,\n",
    "                                                                          \"x_2t1\":x_2t1,\n",
    "                                                                          \"x_3t1\":x_3t1,\n",
    "                                                                          \"x_1t2\":x_1t2,\n",
    "                                                                          \"x_2t2\":x_2t2,\n",
    "                                                                          \"x_3t2\":x_3t2},\n",
    "                                                                            training=True)\n",
    "            hedge = u_1t1 + u_2t1 + u_3t1 + u_1t2+ u_2t2+ u_3t2 + H_1*(x_1t2-x_1t1) + H_2*(x_2t2-x_2t1)+H_3*(x_3t2-x_3t1)\n",
    "        else:\n",
    "            u_1t1, u_2t1, u_3t1, u_1t2, u_2t2, u_3t2 = model({\"x_1t1\":x_1t1,\n",
    "                                                                          \"x_2t1\":x_2t1,\n",
    "                                                                          \"x_3t1\":x_3t1,\n",
    "                                                                          \"x_1t2\":x_1t2,\n",
    "                                                                          \"x_2t2\":x_2t2,\n",
    "                                                                          \"x_3t2\":x_3t2},\n",
    "                                                                            training=True)\n",
    "            hedge = u_1t1 + u_2t1 + u_3t1 + u_1t2+ u_2t2+ u_3t2              \n",
    "        s = payoff(x_1t1,x_2t1,x_3t1,x_1t2,x_2t2,x_3t2)*(1-2*int(lower_bound)) - hedge            \n",
    "        loss = tf.reduce_mean(u_1t1 + u_2t1 + u_3t1 + u_1t2+ u_2t2+ u_3t2)+ \\\n",
    "        0.5*gamma*tf.reduce_mean(tf.square(tf.nn.relu(s)))           \n",
    "        return loss\n",
    "\n",
    "   \n",
    "    # Define Gradient    \n",
    "    def grad(model,x_1t1,x_2t1,x_3t1,x_1t2,x_2t2,x_3t2,martingale):\n",
    "        with tf.GradientTape() as tape:\n",
    "            loss_value = loss(model,x_1t1,x_2t1,x_3t1,x_1t2,x_2t2,x_3t2,martingale)\n",
    "        return loss_value, tape.gradient(loss_value,model.trainable_variables)\n",
    "    \n",
    "    # Loss function munder constraints\n",
    "    \n",
    "    def constraints(x_1t1,x_2t1,x_3t1,x_1t2,x_2t2,x_3t2):\n",
    "        constr = [f(x_1t1,x_2t1,x_3t1,x_1t2,x_2t2,x_3t2)-pi for f,pi in zip(copula_payoffs,copula_prices)]\n",
    "        constr = tf.convert_to_tensor(constr,dtype = tf.float32)\n",
    "        return tf.transpose(tf.reshape(constr,[N,batch_size]))\n",
    "    \n",
    "    def grad_constraints(model,x_1t1,x_2t1,x_3t1,x_1t2,x_2t2,x_3t2,martingale):\n",
    "        with tf.GradientTape() as tape:\n",
    "            loss_value = loss_constraints(model,x_1t1,x_2t1,x_3t1,x_1t2,x_2t2,x_3t2,martingale)\n",
    "        return loss_value, tape.gradient(loss_value,model.trainable_variables)\n",
    "    \n",
    "    def loss_constraints(model,x_1t1,x_2t1,x_3t1,x_1t2,x_2t2,x_3t2,martingale):\n",
    "        if martingale:\n",
    "            u_1t1, u_2t1, u_3t1, u_1t2, u_2t2, u_3t2, H_1, H_2, H_3  = model({\"x_1t1\":x_1t1,\n",
    "                                                                          \"x_2t1\":x_2t1,\n",
    "                                                                          \"x_3t1\":x_3t1,\n",
    "                                                                          \"x_1t2\":x_1t2,\n",
    "                                                                          \"x_2t2\":x_2t2,\n",
    "                                                                          \"x_3t2\":x_3t2},\n",
    "                                                                            training=True)\n",
    "            hedge = u_1t1 + u_2t1 + u_3t1 + u_1t2+ u_2t2+ u_3t2 + \\\n",
    "            H_1*(x_1t2-x_1t1) + H_2*(x_2t2-x_2t1)+H_3*(x_3t2-x_3t1) + \\\n",
    "            tf.linalg.matmul(constraints(x_1t1,x_2t1,x_3t1,x_1t2,x_2t2,x_3t2),alpha)\n",
    "        else:\n",
    "            u_1t1, u_2t1, u_3t1, u_1t2, u_2t2, u_3t2  = model({\"x_1t1\":x_1t1,\n",
    "                                                                          \"x_2t1\":x_2t1,\n",
    "                                                                          \"x_3t1\":x_3t1,\n",
    "                                                                          \"x_1t2\":x_1t2,\n",
    "                                                                          \"x_2t2\":x_2t2,\n",
    "                                                                          \"x_3t2\":x_3t2},\n",
    "                                                              training=True)\n",
    "            hedge = u_1t1 + u_2t1 + u_3t1 + u_1t2+ u_2t2+ u_3t2 +\\\n",
    "            tf.linalg.matmul(constraints(x_1t1,x_2t1,x_3t1,x_1t2,x_2t2,x_3t2),alpha)\n",
    "        s = payoff(x_1t1,x_2t1,x_3t1,x_1t2,x_2t2,x_3t2)*(1-2*int(lower_bound)) - hedge\n",
    "        loss = tf.reduce_mean(u_1t1 + u_2t1 + u_3t1 + u_1t2+ u_2t2+ u_3t2)+ \\\n",
    "        0.5*gamma*tf.reduce_mean(tf.square(tf.nn.relu(s)))          \n",
    "        return loss\n",
    "    \n",
    "    def grad_alpha(model,x_1t1,x_2t1,x_3t1,x_1t2,x_2t2,x_3t2,martingale):\n",
    "        with tf.GradientTape() as tape:\n",
    "            loss_value = loss_constraints(model,x_1t1,x_2t1,x_3t1,x_1t2,x_2t2,x_3t2,martingale)\n",
    "        return loss_value, tape.gradient(loss_value,[alpha])\n",
    "    \n",
    "    \n",
    "    # Create Optimizer and Model\n",
    "    optimizer = tf.keras.optimizers.Adam(learning_rate = l_r, beta_1=0.9, beta_2=0.999)\n",
    "    optimizer_sgd = tf.keras.optimizers.SGD(learning_rate = l_r*10)\n",
    "    model = build_model(martingale)\n",
    "    tf.keras.utils.plot_model(model,'model.png',show_shapes=True)\n",
    "    losses = []\n",
    "\n",
    "    # Training Loop\n",
    "    if N == 0: # No Constraints\n",
    "        for epoch in tqdm(range(int(max_iter))):\n",
    "            x_1t1 = next(generate_samples_mu1t1(batch_size))\n",
    "            x_2t1 = next(generate_samples_mu2t1(batch_size))\n",
    "            x_3t1 = next(generate_samples_mu3t1(batch_size))\n",
    "            x_1t2 = next(generate_samples_mu1t2(batch_size))\n",
    "            x_2t2 = next(generate_samples_mu2t2(batch_size))\n",
    "            x_3t2 = next(generate_samples_mu3t2(batch_size))\n",
    "            loss_value, grads = grad(model,x_1t1,x_2t1,x_3t1,x_1t2,x_2t2,x_3t2,martingale)\n",
    "            optimizer.apply_gradients(zip(grads, model.trainable_variables))\n",
    "            losses.append(loss_value.numpy()*(1-2*int(lower_bound)))\n",
    "            if epoch % 1000 == 0 and epoch > 0:\n",
    "                print(\"Iteration:{}, Avg. Loss: {}\".format((epoch),np.mean(losses[-(round(epoch*0.05))])))\n",
    "    else:\n",
    "        for epoch in tqdm(range(int(max_iter))):\n",
    "            x_1t1 = next(generate_samples_mu1t1(batch_size))\n",
    "            x_2t1 = next(generate_samples_mu2t1(batch_size))\n",
    "            x_3t1 = next(generate_samples_mu3t1(batch_size))\n",
    "            x_1t2 = next(generate_samples_mu1t2(batch_size))\n",
    "            x_2t2 = next(generate_samples_mu2t2(batch_size))\n",
    "            x_3t2 = next(generate_samples_mu3t2(batch_size))\n",
    "            loss_value, grads = grad_constraints(model,x_1t1,x_2t1,x_3t1,x_1t2,x_2t2,x_3t2,martingale)\n",
    "            optimizer.apply_gradients(zip(grads, model.trainable_variables))\n",
    "            for inner_epoch in range(int(inner_iter)):\n",
    "                x_1t1 = next(generate_samples_mu1t1(batch_size))\n",
    "                x_2t1 = next(generate_samples_mu2t1(batch_size))\n",
    "                x_3t1 = next(generate_samples_mu3t1(batch_size))\n",
    "                x_1t2 = next(generate_samples_mu1t2(batch_size))\n",
    "                x_2t2 = next(generate_samples_mu2t2(batch_size))\n",
    "                x_3t2 = next(generate_samples_mu3t2(batch_size))\n",
    "                loss_value, grad_a = grad_alpha(model,x_1t1,x_2t1,x_3t1,x_1t2,x_2t2,x_3t2,martingale)\n",
    "                optimizer_sgd.apply_gradients(zip(grad_a, [alpha]))\n",
    "            losses.append(loss_value.numpy()*(1-2*int(lower_bound)))\n",
    "            if epoch % 1000 == 0 and epoch > 0:\n",
    "                print(\"Iteration:{}, Avg. Loss: {}\".format((epoch),np.mean(losses[-(round(epoch*0.05))])))        \n",
    "            \n",
    "    print(\"Iteration result: {}\".format(np.mean(losses[-(round(max_iter*0.05))])))\n",
    "    return np.mean(losses[-(round(max_iter*0.05))]), model"
   ]
  },
  {
   "cell_type": "markdown",
   "metadata": {
    "id": "JncZfzmbMoDH"
   },
   "source": [
    "Lognormal Distributions\n",
    "\n",
    "We consider a Black-Scholes market model with\n",
    "$S_{t_i}^k = S_0 \\exp\\left(-\\frac{{\\sigma_{i}^k}^2}{2}{t_i}+\\sqrt{t_i}{\\sigma_{i}^k}X_i^k\\right)$ for $i=1,2$,$k=1,2,3$.\n",
    "with \n",
    "\n",
    "$S_0^1=9$, $S_0^2=10$, $S_0^3=11$, $t_1=1,t_2=2$ \n",
    "and \n",
    "${\\sigma_{i}^k}=0.2$ for all $i,k$\n",
    "$$\n",
    "(X_i^1,X_i^2,X_i^3) \\sim \\mathcal{N}(0,\\Sigma)\n",
    "$$\n",
    "for \n",
    "$$\n",
    "\\Sigma = \n",
    "\\begin{pmatrix}\n",
    "&1 &\\rho_{1,2} &\\rho_{1,3}\\\\\n",
    "&\\rho_{1,2} &1  &\\rho_{2,3}\\\\\n",
    "&\\rho_{1,3} &\\rho_{2,3} &1 \\\\\n",
    "\\end{pmatrix}\n",
    "$$"
   ]
  },
  {
   "cell_type": "code",
   "execution_count": 4,
   "metadata": {
    "id": "DoQBwugcMoDI"
   },
   "outputs": [],
   "source": [
    "# Set the parameters\n",
    "t_1 = 1\n",
    "t_2 = 2\n",
    "vol = 0.5\n",
    "S_0_1 = 9\n",
    "S_0_2 = 10\n",
    "S_0_3 = 11\n",
    "#Correlations / Put them together with the volatilities into a matrix which we call rho\n",
    "rho_12 = 0.8\n",
    "rho_13 = 0.8\n",
    "rho_23 = 0.8\n",
    "\n",
    "\n",
    "rho=np.array([[vol,rho_12,rho_13],[rho_12,vol,rho_23],[rho_13,rho_23,vol]])\n",
    "\n",
    "def log_norm1_t1(batch_size):\n",
    "    while True:\n",
    "        x = S_0_1*tf.math.exp(np.sqrt(vol**2*t_1)*tf.random.normal(shape = [int(batch_size),1])-vol**2*(t_1/2))\n",
    "        yield x            \n",
    "def log_norm2_t1(batch_size):\n",
    "    while True:\n",
    "        x = S_0_2*tf.math.exp(np.sqrt(vol**2*t_1)*tf.random.normal(shape = [int(batch_size),1])-vol**2*(t_1/2))\n",
    "        yield x\n",
    "def log_norm3_t1(batch_size):\n",
    "    while True:\n",
    "        x = S_0_3*tf.math.exp(np.sqrt(vol**2*t_1)*tf.random.normal(shape = [int(batch_size),1])-vol**2*(t_1/2))\n",
    "        yield x\n",
    "def log_norm1_t2(batch_size):\n",
    "    while True:\n",
    "        x = S_0_1*tf.math.exp(np.sqrt(vol**2*t_2)*tf.random.normal(shape = [int(batch_size),1])-vol**2*(t_2/2))\n",
    "        yield x            \n",
    "def log_norm2_t2(batch_size):\n",
    "    while True:\n",
    "        x = S_0_2*tf.math.exp(np.sqrt(vol**2*t_2)*tf.random.normal(shape = [int(batch_size),1])-vol**2*(t_2/2))\n",
    "        yield x\n",
    "def log_norm3_t2(batch_size):\n",
    "    while True:\n",
    "        x = S_0_3*tf.math.exp(np.sqrt(vol**2*t_2)*tf.random.normal(shape = [int(batch_size),1])-vol**2*(t_2/2))\n",
    "        yield x\n"
   ]
  },
  {
   "cell_type": "markdown",
   "metadata": {
    "id": "OIwuXoQxMoDL"
   },
   "source": [
    "It s easy to verify that\n",
    "$$\n",
    "E\\left[1_{max \\{ S_{t_i}^j S_{t_i}^k\\} \\leq K}\\right] = Q\\left(X_i^j \\leq \\frac{\\log(K/S_{t_0}^j)+\\frac{(\\sigma_i^j)^2}{2}t_i}{\\sqrt{t_i}\\sigma_i^j},X_i^k \\leq \\frac{\\log(K/S_{t_0}^k)+\\frac{(\\sigma_i^k)^2}{2}t_i}{\\sqrt{t_i}\\sigma_i^k}\\right)\n",
    "$$\n",
    "Thus we may compute prices of the digital options by using the multivariate normal distribution"
   ]
  },
  {
   "cell_type": "code",
   "execution_count": 5,
   "metadata": {
    "id": "oafwegvxMoDM"
   },
   "outputs": [],
   "source": [
    "def digital_option(correlation_matrix = rho,\n",
    "                   spot_price1 =10,\n",
    "                   spot_price2 = 10,\n",
    "                   T=1,\n",
    "                   strike = [1],\n",
    "                  indices = [1,2]):\n",
    "    volatility1 = rho[indices[0]-1,indices[0]-1]\n",
    "    volatility2 = rho[indices[1]-1,indices[1]-1]\n",
    "    x1 = (np.log(np.array(strike)/spot_price1)+T*0.5*volatility1**2)/(volatility1*np.sqrt(T))\n",
    "    x2 = (np.log(np.array(strike)/spot_price2)+T*0.5*volatility2**2)/(volatility2*np.sqrt(T))\n",
    "    x =x1.tolist()+x2.tolist()\n",
    "    correlation = rho[indices[0]-1,indices[1]-1]\n",
    "    cov_matrix_small = np.array([[1,correlation],[correlation,1]])\n",
    "    distribution = multivariate_normal(mean= [0,0], cov=cov_matrix_small)\n",
    "    return distribution.cdf(x)"
   ]
  },
  {
   "cell_type": "markdown",
   "metadata": {
    "id": "5xK8BzGJMoDM"
   },
   "source": [
    "We calculate prices of relevant digital options (written at T=2)"
   ]
  },
  {
   "cell_type": "code",
   "execution_count": 6,
   "metadata": {
    "id": "CyLm_x9AMoDM"
   },
   "outputs": [],
   "source": [
    "strikes = [8,9,10,11,12] # Set the Strikes\n",
    "\n",
    "\n",
    "prices_12 = [digital_option(rho,spot_price1 = S_0_1,spot_price2 = S_0_2,T=2,\n",
    "                            strike = [s], indices = [1,2]) for s in strikes]\n",
    "prices_13 = [digital_option(rho,spot_price1 = S_0_1,spot_price2 = S_0_3,T=2,\n",
    "                            strike = [s], indices = [1,3]) for s in strikes]\n",
    "prices_23 = [digital_option(rho,spot_price1 = S_0_2,spot_price2 = S_0_3,T=2,\n",
    "                            strike = [s], indices = [2,3]) for s in strikes]\n",
    "prices = prices_12+prices_13+prices_23\n",
    "\n",
    "payoffs_12 = [lambda x_1,x_2,x_3, s=s: (np.amax([x_1,x_2],0)<s) for s in strikes]\n",
    "payoffs_13 = [lambda x_1,x_2,x_3, s=s: (np.amax([x_1,x_3],0)<s) for s in strikes]\n",
    "payoffs_23 = [lambda x_1,x_2,x_3, s=s:(np.amax([x_2,x_3],0)<s) for s in strikes]\n",
    "payoffs = payoffs_12+payoffs_13+payoffs_23\n",
    "\n",
    "payoffs_12_allargs = [lambda x_1t1,x_2t1,x_3t1, x_1t2,x_2t2,x_3t2, s=s: (np.amax([x_1t2,x_2t2],0)<s) for s in strikes]\n",
    "payoffs_13_allargs = [lambda x_1t1,x_2t1,x_3t1, x_1t2,x_2t2,x_3t2, s=s: (np.amax([x_1t2,x_3t2],0)<s) for s in strikes]\n",
    "payoffs_23_allargs = [lambda x_1t1,x_2t1,x_3t1, x_1t2,x_2t2,x_3t2, s=s:(np.amax([x_2t2,x_3t2],0)<s) for s in strikes]\n",
    "\n",
    "payoffs_allargs = payoffs_12_allargs+payoffs_13_allargs+payoffs_23_allargs"
   ]
  },
  {
   "cell_type": "markdown",
   "metadata": {},
   "source": [
    "Computation of bounds for the payoff function \n",
    "$$\n",
    "c_{2,K} = \\left(\\min_{k=1,2,3,i=1,2}S_{t_i}^k - K \\right)_+\n",
    "$$\n",
    "for different values of $K$."
   ]
  },
  {
   "cell_type": "code",
   "execution_count": 7,
   "metadata": {
    "colab": {
     "base_uri": "https://localhost:8080/"
    },
    "id": "GiQ6m_AjMoDN",
    "outputId": "90012060-ff22-4d6c-e5ce-b29fc81c2ba4"
   },
   "outputs": [
    {
     "name": "stdout",
     "output_type": "stream",
     "text": [
      "4.0\n",
      "upper_FH\n"
     ]
    },
    {
     "name": "stderr",
     "output_type": "stream",
     "text": [
      "  5%|▌         | 1011/20000 [00:16<05:03, 62.47it/s]"
     ]
    },
    {
     "name": "stdout",
     "output_type": "stream",
     "text": [
      "Iteration:1000, Avg. Loss: 3.4831249713897705\n"
     ]
    },
    {
     "name": "stderr",
     "output_type": "stream",
     "text": [
      " 10%|█         | 2010/20000 [00:32<04:45, 63.06it/s]"
     ]
    },
    {
     "name": "stdout",
     "output_type": "stream",
     "text": [
      "Iteration:2000, Avg. Loss: 3.0788540840148926\n"
     ]
    },
    {
     "name": "stderr",
     "output_type": "stream",
     "text": [
      " 15%|█▌        | 3011/20000 [00:48<04:24, 64.24it/s]"
     ]
    },
    {
     "name": "stdout",
     "output_type": "stream",
     "text": [
      "Iteration:3000, Avg. Loss: 2.647024393081665\n"
     ]
    },
    {
     "name": "stderr",
     "output_type": "stream",
     "text": [
      " 20%|██        | 4012/20000 [01:04<04:14, 62.86it/s]"
     ]
    },
    {
     "name": "stdout",
     "output_type": "stream",
     "text": [
      "Iteration:4000, Avg. Loss: 3.1380553245544434\n"
     ]
    },
    {
     "name": "stderr",
     "output_type": "stream",
     "text": [
      " 25%|██▌       | 5006/20000 [01:20<03:56, 63.49it/s]"
     ]
    },
    {
     "name": "stdout",
     "output_type": "stream",
     "text": [
      "Iteration:5000, Avg. Loss: 2.9104652404785156\n"
     ]
    },
    {
     "name": "stderr",
     "output_type": "stream",
     "text": [
      " 30%|███       | 6006/20000 [01:35<03:51, 60.49it/s]"
     ]
    },
    {
     "name": "stdout",
     "output_type": "stream",
     "text": [
      "Iteration:6000, Avg. Loss: 3.330785036087036\n"
     ]
    },
    {
     "name": "stderr",
     "output_type": "stream",
     "text": [
      " 35%|███▌      | 7006/20000 [01:51<03:27, 62.59it/s]"
     ]
    },
    {
     "name": "stdout",
     "output_type": "stream",
     "text": [
      "Iteration:7000, Avg. Loss: 3.5783591270446777\n"
     ]
    },
    {
     "name": "stderr",
     "output_type": "stream",
     "text": [
      " 40%|████      | 8009/20000 [02:07<03:11, 62.72it/s]"
     ]
    },
    {
     "name": "stdout",
     "output_type": "stream",
     "text": [
      "Iteration:8000, Avg. Loss: 2.7739593982696533\n"
     ]
    },
    {
     "name": "stderr",
     "output_type": "stream",
     "text": [
      " 45%|████▌     | 9010/20000 [02:22<02:51, 64.21it/s]"
     ]
    },
    {
     "name": "stdout",
     "output_type": "stream",
     "text": [
      "Iteration:9000, Avg. Loss: 3.0273895263671875\n"
     ]
    },
    {
     "name": "stderr",
     "output_type": "stream",
     "text": [
      " 50%|█████     | 10006/20000 [02:38<02:36, 63.69it/s]"
     ]
    },
    {
     "name": "stdout",
     "output_type": "stream",
     "text": [
      "Iteration:10000, Avg. Loss: 5.198970794677734\n"
     ]
    },
    {
     "name": "stderr",
     "output_type": "stream",
     "text": [
      " 55%|█████▌    | 11014/20000 [02:54<02:19, 64.26it/s]"
     ]
    },
    {
     "name": "stdout",
     "output_type": "stream",
     "text": [
      "Iteration:11000, Avg. Loss: 2.6817076206207275\n"
     ]
    },
    {
     "name": "stderr",
     "output_type": "stream",
     "text": [
      " 60%|██████    | 12009/20000 [03:09<02:04, 64.00it/s]"
     ]
    },
    {
     "name": "stdout",
     "output_type": "stream",
     "text": [
      "Iteration:12000, Avg. Loss: 2.8742685317993164\n"
     ]
    },
    {
     "name": "stderr",
     "output_type": "stream",
     "text": [
      " 65%|██████▌   | 13011/20000 [03:25<01:48, 64.62it/s]"
     ]
    },
    {
     "name": "stdout",
     "output_type": "stream",
     "text": [
      "Iteration:13000, Avg. Loss: 3.2283623218536377\n"
     ]
    },
    {
     "name": "stderr",
     "output_type": "stream",
     "text": [
      " 70%|███████   | 14008/20000 [03:41<01:32, 64.43it/s]"
     ]
    },
    {
     "name": "stdout",
     "output_type": "stream",
     "text": [
      "Iteration:14000, Avg. Loss: 2.8541479110717773\n"
     ]
    },
    {
     "name": "stderr",
     "output_type": "stream",
     "text": [
      " 75%|███████▌  | 15009/20000 [03:56<01:18, 63.59it/s]"
     ]
    },
    {
     "name": "stdout",
     "output_type": "stream",
     "text": [
      "Iteration:15000, Avg. Loss: 2.8557581901550293\n"
     ]
    },
    {
     "name": "stderr",
     "output_type": "stream",
     "text": [
      " 80%|████████  | 16006/20000 [04:12<01:03, 63.01it/s]"
     ]
    },
    {
     "name": "stdout",
     "output_type": "stream",
     "text": [
      "Iteration:16000, Avg. Loss: 2.744792938232422\n"
     ]
    },
    {
     "name": "stderr",
     "output_type": "stream",
     "text": [
      " 85%|████████▌ | 17007/20000 [04:28<00:46, 63.89it/s]"
     ]
    },
    {
     "name": "stdout",
     "output_type": "stream",
     "text": [
      "Iteration:17000, Avg. Loss: 2.6004512310028076\n"
     ]
    },
    {
     "name": "stderr",
     "output_type": "stream",
     "text": [
      " 90%|█████████ | 18008/20000 [04:44<00:31, 63.29it/s]"
     ]
    },
    {
     "name": "stdout",
     "output_type": "stream",
     "text": [
      "Iteration:18000, Avg. Loss: 2.999875068664551\n"
     ]
    },
    {
     "name": "stderr",
     "output_type": "stream",
     "text": [
      " 95%|█████████▌| 19009/20000 [04:59<00:15, 62.61it/s]"
     ]
    },
    {
     "name": "stdout",
     "output_type": "stream",
     "text": [
      "Iteration:19000, Avg. Loss: 3.8955416679382324\n"
     ]
    },
    {
     "name": "stderr",
     "output_type": "stream",
     "text": [
      "100%|██████████| 20000/20000 [05:15<00:00, 63.33it/s]\n"
     ]
    },
    {
     "name": "stdout",
     "output_type": "stream",
     "text": [
      "Iteration result: 2.6082701683044434\n",
      "upper_constraints\n"
     ]
    },
    {
     "name": "stderr",
     "output_type": "stream",
     "text": [
      "  5%|▌         | 1001/20000 [03:52<1:13:28,  4.31it/s]"
     ]
    },
    {
     "name": "stdout",
     "output_type": "stream",
     "text": [
      "Iteration:1000, Avg. Loss: 3.727205753326416\n"
     ]
    },
    {
     "name": "stderr",
     "output_type": "stream",
     "text": [
      " 10%|█         | 2001/20000 [07:44<1:10:14,  4.27it/s]"
     ]
    },
    {
     "name": "stdout",
     "output_type": "stream",
     "text": [
      "Iteration:2000, Avg. Loss: 2.9932937622070312\n"
     ]
    },
    {
     "name": "stderr",
     "output_type": "stream",
     "text": [
      " 15%|█▌        | 3001/20000 [11:37<1:05:07,  4.35it/s]"
     ]
    },
    {
     "name": "stdout",
     "output_type": "stream",
     "text": [
      "Iteration:3000, Avg. Loss: 3.291548728942871\n"
     ]
    },
    {
     "name": "stderr",
     "output_type": "stream",
     "text": [
      " 20%|██        | 4001/20000 [15:29<1:00:38,  4.40it/s]"
     ]
    },
    {
     "name": "stdout",
     "output_type": "stream",
     "text": [
      "Iteration:4000, Avg. Loss: 3.4779326915740967\n"
     ]
    },
    {
     "name": "stderr",
     "output_type": "stream",
     "text": [
      " 25%|██▌       | 5001/20000 [19:22<58:37,  4.26it/s]  "
     ]
    },
    {
     "name": "stdout",
     "output_type": "stream",
     "text": [
      "Iteration:5000, Avg. Loss: 3.199547529220581\n"
     ]
    },
    {
     "name": "stderr",
     "output_type": "stream",
     "text": [
      " 30%|███       | 6001/20000 [23:15<53:43,  4.34it/s]  "
     ]
    },
    {
     "name": "stdout",
     "output_type": "stream",
     "text": [
      "Iteration:6000, Avg. Loss: 3.3001084327697754\n"
     ]
    },
    {
     "name": "stderr",
     "output_type": "stream",
     "text": [
      " 35%|███▌      | 7001/20000 [27:08<49:37,  4.37it/s]"
     ]
    },
    {
     "name": "stdout",
     "output_type": "stream",
     "text": [
      "Iteration:7000, Avg. Loss: 4.117825508117676\n"
     ]
    },
    {
     "name": "stderr",
     "output_type": "stream",
     "text": [
      " 40%|████      | 8001/20000 [31:01<45:51,  4.36it/s]"
     ]
    },
    {
     "name": "stdout",
     "output_type": "stream",
     "text": [
      "Iteration:8000, Avg. Loss: 2.90391206741333\n"
     ]
    },
    {
     "name": "stderr",
     "output_type": "stream",
     "text": [
      " 45%|████▌     | 9001/20000 [34:54<42:54,  4.27it/s]"
     ]
    },
    {
     "name": "stdout",
     "output_type": "stream",
     "text": [
      "Iteration:9000, Avg. Loss: 2.938445806503296\n"
     ]
    },
    {
     "name": "stderr",
     "output_type": "stream",
     "text": [
      " 50%|█████     | 10001/20000 [38:47<38:59,  4.27it/s]"
     ]
    },
    {
     "name": "stdout",
     "output_type": "stream",
     "text": [
      "Iteration:10000, Avg. Loss: 3.003807544708252\n"
     ]
    },
    {
     "name": "stderr",
     "output_type": "stream",
     "text": [
      " 55%|█████▌    | 11001/20000 [42:41<34:51,  4.30it/s]"
     ]
    },
    {
     "name": "stdout",
     "output_type": "stream",
     "text": [
      "Iteration:11000, Avg. Loss: 2.768369197845459\n"
     ]
    },
    {
     "name": "stderr",
     "output_type": "stream",
     "text": [
      " 60%|██████    | 12001/20000 [46:35<31:04,  4.29it/s]"
     ]
    },
    {
     "name": "stdout",
     "output_type": "stream",
     "text": [
      "Iteration:12000, Avg. Loss: 4.335892677307129\n"
     ]
    },
    {
     "name": "stderr",
     "output_type": "stream",
     "text": [
      " 65%|██████▌   | 13001/20000 [50:28<27:33,  4.23it/s]"
     ]
    },
    {
     "name": "stdout",
     "output_type": "stream",
     "text": [
      "Iteration:13000, Avg. Loss: 2.9749553203582764\n"
     ]
    },
    {
     "name": "stderr",
     "output_type": "stream",
     "text": [
      " 70%|███████   | 14001/20000 [54:21<24:17,  4.12it/s]"
     ]
    },
    {
     "name": "stdout",
     "output_type": "stream",
     "text": [
      "Iteration:14000, Avg. Loss: 2.824155569076538\n"
     ]
    },
    {
     "name": "stderr",
     "output_type": "stream",
     "text": [
      " 75%|███████▌  | 15001/20000 [58:15<19:31,  4.27it/s]"
     ]
    },
    {
     "name": "stdout",
     "output_type": "stream",
     "text": [
      "Iteration:15000, Avg. Loss: 3.134939193725586\n"
     ]
    },
    {
     "name": "stderr",
     "output_type": "stream",
     "text": [
      " 80%|████████  | 16001/20000 [1:02:08<15:20,  4.34it/s]"
     ]
    },
    {
     "name": "stdout",
     "output_type": "stream",
     "text": [
      "Iteration:16000, Avg. Loss: 2.7404329776763916\n"
     ]
    },
    {
     "name": "stderr",
     "output_type": "stream",
     "text": [
      " 85%|████████▌ | 17001/20000 [1:06:02<11:47,  4.24it/s]"
     ]
    },
    {
     "name": "stdout",
     "output_type": "stream",
     "text": [
      "Iteration:17000, Avg. Loss: 3.092466354370117\n"
     ]
    },
    {
     "name": "stderr",
     "output_type": "stream",
     "text": [
      " 90%|█████████ | 18001/20000 [1:09:56<08:05,  4.11it/s]"
     ]
    },
    {
     "name": "stdout",
     "output_type": "stream",
     "text": [
      "Iteration:18000, Avg. Loss: 3.247760772705078\n"
     ]
    },
    {
     "name": "stderr",
     "output_type": "stream",
     "text": [
      " 95%|█████████▌| 19001/20000 [1:13:50<03:53,  4.28it/s]"
     ]
    },
    {
     "name": "stdout",
     "output_type": "stream",
     "text": [
      "Iteration:19000, Avg. Loss: 2.923722505569458\n"
     ]
    },
    {
     "name": "stderr",
     "output_type": "stream",
     "text": [
      "100%|██████████| 20000/20000 [1:17:43<00:00,  4.29it/s]\n"
     ]
    },
    {
     "name": "stdout",
     "output_type": "stream",
     "text": [
      "Iteration result: 2.5783607959747314\n",
      "upper_MG\n"
     ]
    },
    {
     "name": "stderr",
     "output_type": "stream",
     "text": [
      "  5%|▌         | 1004/20000 [00:21<06:46, 46.73it/s]"
     ]
    },
    {
     "name": "stdout",
     "output_type": "stream",
     "text": [
      "Iteration:1000, Avg. Loss: 42.8554801940918\n"
     ]
    },
    {
     "name": "stderr",
     "output_type": "stream",
     "text": [
      " 10%|█         | 2004/20000 [00:44<06:38, 45.18it/s]"
     ]
    },
    {
     "name": "stdout",
     "output_type": "stream",
     "text": [
      "Iteration:2000, Avg. Loss: 33.783634185791016\n"
     ]
    },
    {
     "name": "stderr",
     "output_type": "stream",
     "text": [
      " 15%|█▌        | 3006/20000 [01:05<06:15, 45.30it/s]"
     ]
    },
    {
     "name": "stdout",
     "output_type": "stream",
     "text": [
      "Iteration:3000, Avg. Loss: 16.798355102539062\n"
     ]
    },
    {
     "name": "stderr",
     "output_type": "stream",
     "text": [
      " 20%|██        | 4006/20000 [01:27<05:43, 46.60it/s]"
     ]
    },
    {
     "name": "stdout",
     "output_type": "stream",
     "text": [
      "Iteration:4000, Avg. Loss: 268.4739990234375\n"
     ]
    },
    {
     "name": "stderr",
     "output_type": "stream",
     "text": [
      " 25%|██▌       | 5006/20000 [01:49<05:29, 45.51it/s]"
     ]
    },
    {
     "name": "stdout",
     "output_type": "stream",
     "text": [
      "Iteration:5000, Avg. Loss: 50.55925369262695\n"
     ]
    },
    {
     "name": "stderr",
     "output_type": "stream",
     "text": [
      " 30%|███       | 6006/20000 [02:11<05:11, 44.90it/s]"
     ]
    },
    {
     "name": "stdout",
     "output_type": "stream",
     "text": [
      "Iteration:6000, Avg. Loss: 40.543861389160156\n"
     ]
    },
    {
     "name": "stderr",
     "output_type": "stream",
     "text": [
      " 35%|███▌      | 7008/20000 [02:33<04:43, 45.85it/s]"
     ]
    },
    {
     "name": "stdout",
     "output_type": "stream",
     "text": [
      "Iteration:7000, Avg. Loss: 12.2894868850708\n"
     ]
    },
    {
     "name": "stderr",
     "output_type": "stream",
     "text": [
      " 40%|████      | 8004/20000 [02:55<04:16, 46.71it/s]"
     ]
    },
    {
     "name": "stdout",
     "output_type": "stream",
     "text": [
      "Iteration:8000, Avg. Loss: 6.349337100982666\n"
     ]
    },
    {
     "name": "stderr",
     "output_type": "stream",
     "text": [
      " 45%|████▌     | 9009/20000 [03:17<04:00, 45.63it/s]"
     ]
    },
    {
     "name": "stdout",
     "output_type": "stream",
     "text": [
      "Iteration:9000, Avg. Loss: 4.729174613952637\n"
     ]
    },
    {
     "name": "stderr",
     "output_type": "stream",
     "text": [
      " 50%|█████     | 10009/20000 [03:39<03:36, 46.09it/s]"
     ]
    },
    {
     "name": "stdout",
     "output_type": "stream",
     "text": [
      "Iteration:10000, Avg. Loss: 3.9675955772399902\n"
     ]
    },
    {
     "name": "stderr",
     "output_type": "stream",
     "text": [
      " 55%|█████▌    | 11009/20000 [04:01<03:17, 45.41it/s]"
     ]
    },
    {
     "name": "stdout",
     "output_type": "stream",
     "text": [
      "Iteration:11000, Avg. Loss: 13.035013198852539\n"
     ]
    },
    {
     "name": "stderr",
     "output_type": "stream",
     "text": [
      " 60%|██████    | 12009/20000 [04:23<02:58, 44.81it/s]"
     ]
    },
    {
     "name": "stdout",
     "output_type": "stream",
     "text": [
      "Iteration:12000, Avg. Loss: 4.693965435028076\n"
     ]
    },
    {
     "name": "stderr",
     "output_type": "stream",
     "text": [
      " 65%|██████▌   | 13009/20000 [04:45<02:32, 45.71it/s]"
     ]
    },
    {
     "name": "stdout",
     "output_type": "stream",
     "text": [
      "Iteration:13000, Avg. Loss: 3.883171558380127\n"
     ]
    },
    {
     "name": "stderr",
     "output_type": "stream",
     "text": [
      " 70%|███████   | 14005/20000 [05:06<02:11, 45.49it/s]"
     ]
    },
    {
     "name": "stdout",
     "output_type": "stream",
     "text": [
      "Iteration:14000, Avg. Loss: 2.9646308422088623\n"
     ]
    },
    {
     "name": "stderr",
     "output_type": "stream",
     "text": [
      " 75%|███████▌  | 15006/20000 [05:28<01:46, 46.88it/s]"
     ]
    },
    {
     "name": "stdout",
     "output_type": "stream",
     "text": [
      "Iteration:15000, Avg. Loss: 4.34883451461792\n"
     ]
    },
    {
     "name": "stderr",
     "output_type": "stream",
     "text": [
      " 80%|████████  | 16008/20000 [05:50<01:25, 46.42it/s]"
     ]
    },
    {
     "name": "stdout",
     "output_type": "stream",
     "text": [
      "Iteration:16000, Avg. Loss: 2.5745131969451904\n"
     ]
    },
    {
     "name": "stderr",
     "output_type": "stream",
     "text": [
      " 85%|████████▌ | 17008/20000 [06:12<01:04, 46.51it/s]"
     ]
    },
    {
     "name": "stdout",
     "output_type": "stream",
     "text": [
      "Iteration:17000, Avg. Loss: 3.018998146057129\n"
     ]
    },
    {
     "name": "stderr",
     "output_type": "stream",
     "text": [
      " 90%|█████████ | 18005/20000 [06:34<00:42, 47.16it/s]"
     ]
    },
    {
     "name": "stdout",
     "output_type": "stream",
     "text": [
      "Iteration:18000, Avg. Loss: 3.19561767578125\n"
     ]
    },
    {
     "name": "stderr",
     "output_type": "stream",
     "text": [
      " 95%|█████████▌| 19005/20000 [06:56<00:21, 46.37it/s]"
     ]
    },
    {
     "name": "stdout",
     "output_type": "stream",
     "text": [
      "Iteration:19000, Avg. Loss: 2.868337631225586\n"
     ]
    },
    {
     "name": "stderr",
     "output_type": "stream",
     "text": [
      "100%|██████████| 20000/20000 [07:18<00:00, 45.64it/s]\n"
     ]
    },
    {
     "name": "stdout",
     "output_type": "stream",
     "text": [
      "Iteration result: 2.532261610031128\n",
      "upper_constraints_MG\n"
     ]
    },
    {
     "name": "stderr",
     "output_type": "stream",
     "text": [
      "  5%|▌         | 1001/20000 [04:33<1:25:38,  3.70it/s]"
     ]
    },
    {
     "name": "stdout",
     "output_type": "stream",
     "text": [
      "Iteration:1000, Avg. Loss: 12.823308944702148\n"
     ]
    },
    {
     "name": "stderr",
     "output_type": "stream",
     "text": [
      " 10%|█         | 2001/20000 [09:07<1:21:29,  3.68it/s]"
     ]
    },
    {
     "name": "stdout",
     "output_type": "stream",
     "text": [
      "Iteration:2000, Avg. Loss: 76.33270263671875\n"
     ]
    },
    {
     "name": "stderr",
     "output_type": "stream",
     "text": [
      " 15%|█▌        | 3001/20000 [13:42<1:19:02,  3.58it/s]"
     ]
    },
    {
     "name": "stdout",
     "output_type": "stream",
     "text": [
      "Iteration:3000, Avg. Loss: 143.25347900390625\n"
     ]
    },
    {
     "name": "stderr",
     "output_type": "stream",
     "text": [
      " 20%|██        | 4001/20000 [18:18<1:12:51,  3.66it/s]"
     ]
    },
    {
     "name": "stdout",
     "output_type": "stream",
     "text": [
      "Iteration:4000, Avg. Loss: 8.46440601348877\n"
     ]
    },
    {
     "name": "stderr",
     "output_type": "stream",
     "text": [
      " 25%|██▌       | 5001/20000 [22:54<1:08:36,  3.64it/s]"
     ]
    },
    {
     "name": "stdout",
     "output_type": "stream",
     "text": [
      "Iteration:5000, Avg. Loss: 50.001705169677734\n"
     ]
    },
    {
     "name": "stderr",
     "output_type": "stream",
     "text": [
      " 30%|███       | 6001/20000 [27:30<1:03:18,  3.69it/s]"
     ]
    },
    {
     "name": "stdout",
     "output_type": "stream",
     "text": [
      "Iteration:6000, Avg. Loss: 8.145565032958984\n"
     ]
    },
    {
     "name": "stderr",
     "output_type": "stream",
     "text": [
      " 35%|███▌      | 7001/20000 [32:05<59:22,  3.65it/s]  "
     ]
    },
    {
     "name": "stdout",
     "output_type": "stream",
     "text": [
      "Iteration:7000, Avg. Loss: 45.83417510986328\n"
     ]
    },
    {
     "name": "stderr",
     "output_type": "stream",
     "text": [
      " 40%|████      | 8001/20000 [36:41<55:18,  3.62it/s]  "
     ]
    },
    {
     "name": "stdout",
     "output_type": "stream",
     "text": [
      "Iteration:8000, Avg. Loss: 4.095171928405762\n"
     ]
    },
    {
     "name": "stderr",
     "output_type": "stream",
     "text": [
      " 45%|████▌     | 9001/20000 [41:16<50:02,  3.66it/s]  "
     ]
    },
    {
     "name": "stdout",
     "output_type": "stream",
     "text": [
      "Iteration:9000, Avg. Loss: 3.9515509605407715\n"
     ]
    },
    {
     "name": "stderr",
     "output_type": "stream",
     "text": [
      " 50%|█████     | 10001/20000 [45:52<45:59,  3.62it/s]"
     ]
    },
    {
     "name": "stdout",
     "output_type": "stream",
     "text": [
      "Iteration:10000, Avg. Loss: 3.3575353622436523\n"
     ]
    },
    {
     "name": "stderr",
     "output_type": "stream",
     "text": [
      " 55%|█████▌    | 11001/20000 [50:27<41:20,  3.63it/s]"
     ]
    },
    {
     "name": "stdout",
     "output_type": "stream",
     "text": [
      "Iteration:11000, Avg. Loss: 2.643172025680542\n"
     ]
    },
    {
     "name": "stderr",
     "output_type": "stream",
     "text": [
      " 60%|██████    | 12001/20000 [55:02<37:15,  3.58it/s]"
     ]
    },
    {
     "name": "stdout",
     "output_type": "stream",
     "text": [
      "Iteration:12000, Avg. Loss: 2.8801181316375732\n"
     ]
    },
    {
     "name": "stderr",
     "output_type": "stream",
     "text": [
      " 65%|██████▌   | 13001/20000 [59:38<31:55,  3.65it/s]"
     ]
    },
    {
     "name": "stdout",
     "output_type": "stream",
     "text": [
      "Iteration:13000, Avg. Loss: 3.337477445602417\n"
     ]
    },
    {
     "name": "stderr",
     "output_type": "stream",
     "text": [
      " 70%|███████   | 14001/20000 [1:04:13<27:18,  3.66it/s]"
     ]
    },
    {
     "name": "stdout",
     "output_type": "stream",
     "text": [
      "Iteration:14000, Avg. Loss: 3.649306297302246\n"
     ]
    },
    {
     "name": "stderr",
     "output_type": "stream",
     "text": [
      " 75%|███████▌  | 15001/20000 [1:08:49<22:59,  3.62it/s]"
     ]
    },
    {
     "name": "stdout",
     "output_type": "stream",
     "text": [
      "Iteration:15000, Avg. Loss: 3.062781810760498\n"
     ]
    },
    {
     "name": "stderr",
     "output_type": "stream",
     "text": [
      " 80%|████████  | 16001/20000 [1:13:25<18:32,  3.59it/s]"
     ]
    },
    {
     "name": "stdout",
     "output_type": "stream",
     "text": [
      "Iteration:16000, Avg. Loss: 2.8291196823120117\n"
     ]
    },
    {
     "name": "stderr",
     "output_type": "stream",
     "text": [
      " 85%|████████▌ | 17001/20000 [1:18:00<13:54,  3.59it/s]"
     ]
    },
    {
     "name": "stdout",
     "output_type": "stream",
     "text": [
      "Iteration:17000, Avg. Loss: 2.9666080474853516\n"
     ]
    },
    {
     "name": "stderr",
     "output_type": "stream",
     "text": [
      " 90%|█████████ | 18001/20000 [1:22:35<09:07,  3.65it/s]"
     ]
    },
    {
     "name": "stdout",
     "output_type": "stream",
     "text": [
      "Iteration:18000, Avg. Loss: 3.7815895080566406\n"
     ]
    },
    {
     "name": "stderr",
     "output_type": "stream",
     "text": [
      " 95%|█████████▌| 19001/20000 [1:27:10<04:32,  3.66it/s]"
     ]
    },
    {
     "name": "stdout",
     "output_type": "stream",
     "text": [
      "Iteration:19000, Avg. Loss: 2.8769679069519043\n"
     ]
    },
    {
     "name": "stderr",
     "output_type": "stream",
     "text": [
      "100%|██████████| 20000/20000 [1:31:45<00:00,  3.63it/s]\n"
     ]
    },
    {
     "name": "stdout",
     "output_type": "stream",
     "text": [
      "Iteration result: 2.642423391342163\n",
      "lower_constraints_MG\n"
     ]
    },
    {
     "name": "stderr",
     "output_type": "stream",
     "text": [
      "  5%|▌         | 1001/20000 [04:36<1:27:40,  3.61it/s]"
     ]
    },
    {
     "name": "stdout",
     "output_type": "stream",
     "text": [
      "Iteration:1000, Avg. Loss: -88.32762908935547\n"
     ]
    },
    {
     "name": "stderr",
     "output_type": "stream",
     "text": [
      " 10%|█         | 2001/20000 [09:13<1:22:32,  3.63it/s]"
     ]
    },
    {
     "name": "stdout",
     "output_type": "stream",
     "text": [
      "Iteration:2000, Avg. Loss: -242.6731719970703\n"
     ]
    },
    {
     "name": "stderr",
     "output_type": "stream",
     "text": [
      " 15%|█▌        | 3001/20000 [13:52<1:18:10,  3.62it/s]"
     ]
    },
    {
     "name": "stdout",
     "output_type": "stream",
     "text": [
      "Iteration:3000, Avg. Loss: -107.26548767089844\n"
     ]
    },
    {
     "name": "stderr",
     "output_type": "stream",
     "text": [
      " 20%|██        | 4001/20000 [18:28<1:13:38,  3.62it/s]"
     ]
    },
    {
     "name": "stdout",
     "output_type": "stream",
     "text": [
      "Iteration:4000, Avg. Loss: -10.086946487426758\n"
     ]
    },
    {
     "name": "stderr",
     "output_type": "stream",
     "text": [
      " 25%|██▌       | 5001/20000 [23:05<1:08:32,  3.65it/s]"
     ]
    },
    {
     "name": "stdout",
     "output_type": "stream",
     "text": [
      "Iteration:5000, Avg. Loss: -140.343505859375\n"
     ]
    },
    {
     "name": "stderr",
     "output_type": "stream",
     "text": [
      " 30%|███       | 6001/20000 [27:41<1:03:28,  3.68it/s]"
     ]
    },
    {
     "name": "stdout",
     "output_type": "stream",
     "text": [
      "Iteration:6000, Avg. Loss: -79.1795883178711\n"
     ]
    },
    {
     "name": "stderr",
     "output_type": "stream",
     "text": [
      " 35%|███▌      | 7001/20000 [32:18<59:51,  3.62it/s]  "
     ]
    },
    {
     "name": "stdout",
     "output_type": "stream",
     "text": [
      "Iteration:7000, Avg. Loss: -43.588623046875\n"
     ]
    },
    {
     "name": "stderr",
     "output_type": "stream",
     "text": [
      " 40%|████      | 8001/20000 [36:54<55:13,  3.62it/s]  "
     ]
    },
    {
     "name": "stdout",
     "output_type": "stream",
     "text": [
      "Iteration:8000, Avg. Loss: -4.526831150054932\n"
     ]
    },
    {
     "name": "stderr",
     "output_type": "stream",
     "text": [
      " 45%|████▌     | 9001/20000 [41:30<50:35,  3.62it/s]  "
     ]
    },
    {
     "name": "stdout",
     "output_type": "stream",
     "text": [
      "Iteration:9000, Avg. Loss: -7.901144981384277\n"
     ]
    },
    {
     "name": "stderr",
     "output_type": "stream",
     "text": [
      " 50%|█████     | 10001/20000 [46:07<45:58,  3.63it/s] "
     ]
    },
    {
     "name": "stdout",
     "output_type": "stream",
     "text": [
      "Iteration:10000, Avg. Loss: -59.02006530761719\n"
     ]
    },
    {
     "name": "stderr",
     "output_type": "stream",
     "text": [
      " 55%|█████▌    | 11001/20000 [50:43<40:54,  3.67it/s]"
     ]
    },
    {
     "name": "stdout",
     "output_type": "stream",
     "text": [
      "Iteration:11000, Avg. Loss: -3.4092273712158203\n"
     ]
    },
    {
     "name": "stderr",
     "output_type": "stream",
     "text": [
      " 60%|██████    | 12001/20000 [55:19<36:53,  3.61it/s]"
     ]
    },
    {
     "name": "stdout",
     "output_type": "stream",
     "text": [
      "Iteration:12000, Avg. Loss: -0.526797354221344\n"
     ]
    },
    {
     "name": "stderr",
     "output_type": "stream",
     "text": [
      " 65%|██████▌   | 13001/20000 [59:56<31:56,  3.65it/s]"
     ]
    },
    {
     "name": "stdout",
     "output_type": "stream",
     "text": [
      "Iteration:13000, Avg. Loss: -1.979252576828003\n"
     ]
    },
    {
     "name": "stderr",
     "output_type": "stream",
     "text": [
      " 70%|███████   | 14001/20000 [1:04:32<27:28,  3.64it/s]"
     ]
    },
    {
     "name": "stdout",
     "output_type": "stream",
     "text": [
      "Iteration:14000, Avg. Loss: -1.0412733554840088\n"
     ]
    },
    {
     "name": "stderr",
     "output_type": "stream",
     "text": [
      " 75%|███████▌  | 15001/20000 [1:09:08<23:03,  3.61it/s]"
     ]
    },
    {
     "name": "stdout",
     "output_type": "stream",
     "text": [
      "Iteration:15000, Avg. Loss: -2.3038671016693115\n"
     ]
    },
    {
     "name": "stderr",
     "output_type": "stream",
     "text": [
      " 80%|████████  | 16001/20000 [1:13:44<18:32,  3.60it/s]"
     ]
    },
    {
     "name": "stdout",
     "output_type": "stream",
     "text": [
      "Iteration:16000, Avg. Loss: -0.007901310920715332\n"
     ]
    },
    {
     "name": "stderr",
     "output_type": "stream",
     "text": [
      " 85%|████████▌ | 17001/20000 [1:18:20<13:39,  3.66it/s]"
     ]
    },
    {
     "name": "stdout",
     "output_type": "stream",
     "text": [
      "Iteration:17000, Avg. Loss: -7.847476959228516\n"
     ]
    },
    {
     "name": "stderr",
     "output_type": "stream",
     "text": [
      " 90%|█████████ | 18001/20000 [1:22:56<09:11,  3.63it/s]"
     ]
    },
    {
     "name": "stdout",
     "output_type": "stream",
     "text": [
      "Iteration:18000, Avg. Loss: 0.048598453402519226\n"
     ]
    },
    {
     "name": "stderr",
     "output_type": "stream",
     "text": [
      " 95%|█████████▌| 19001/20000 [1:27:32<04:36,  3.61it/s]"
     ]
    },
    {
     "name": "stdout",
     "output_type": "stream",
     "text": [
      "Iteration:19000, Avg. Loss: 0.2715873122215271\n"
     ]
    },
    {
     "name": "stderr",
     "output_type": "stream",
     "text": [
      "100%|██████████| 20000/20000 [1:32:09<00:00,  3.62it/s]\n"
     ]
    },
    {
     "name": "stdout",
     "output_type": "stream",
     "text": [
      "Iteration result: 0.3588569164276123\n",
      "lower_MG\n"
     ]
    },
    {
     "name": "stderr",
     "output_type": "stream",
     "text": [
      "  5%|▌         | 1007/20000 [00:22<06:45, 46.84it/s]"
     ]
    },
    {
     "name": "stdout",
     "output_type": "stream",
     "text": [
      "Iteration:1000, Avg. Loss: -195.60292053222656\n"
     ]
    },
    {
     "name": "stderr",
     "output_type": "stream",
     "text": [
      " 10%|█         | 2007/20000 [00:44<06:37, 45.28it/s]"
     ]
    },
    {
     "name": "stdout",
     "output_type": "stream",
     "text": [
      "Iteration:2000, Avg. Loss: -17.24521255493164\n"
     ]
    },
    {
     "name": "stderr",
     "output_type": "stream",
     "text": [
      " 15%|█▌        | 3007/20000 [01:06<06:12, 45.64it/s]"
     ]
    },
    {
     "name": "stdout",
     "output_type": "stream",
     "text": [
      "Iteration:3000, Avg. Loss: -11.494261741638184\n"
     ]
    },
    {
     "name": "stderr",
     "output_type": "stream",
     "text": [
      " 20%|██        | 4008/20000 [01:28<06:02, 44.14it/s]"
     ]
    },
    {
     "name": "stdout",
     "output_type": "stream",
     "text": [
      "Iteration:4000, Avg. Loss: -14.132804870605469\n"
     ]
    },
    {
     "name": "stderr",
     "output_type": "stream",
     "text": [
      " 25%|██▌       | 5009/20000 [01:50<05:31, 45.26it/s]"
     ]
    },
    {
     "name": "stdout",
     "output_type": "stream",
     "text": [
      "Iteration:5000, Avg. Loss: -36.937782287597656\n"
     ]
    },
    {
     "name": "stderr",
     "output_type": "stream",
     "text": [
      " 30%|███       | 6009/20000 [02:12<05:00, 46.56it/s]"
     ]
    },
    {
     "name": "stdout",
     "output_type": "stream",
     "text": [
      "Iteration:6000, Avg. Loss: -82.61447143554688\n"
     ]
    },
    {
     "name": "stderr",
     "output_type": "stream",
     "text": [
      " 35%|███▌      | 7009/20000 [02:34<04:38, 46.60it/s]"
     ]
    },
    {
     "name": "stdout",
     "output_type": "stream",
     "text": [
      "Iteration:7000, Avg. Loss: -1.890828251838684\n"
     ]
    },
    {
     "name": "stderr",
     "output_type": "stream",
     "text": [
      " 40%|████      | 8005/20000 [02:55<04:27, 44.83it/s]"
     ]
    },
    {
     "name": "stdout",
     "output_type": "stream",
     "text": [
      "Iteration:8000, Avg. Loss: -1.0449883937835693\n"
     ]
    },
    {
     "name": "stderr",
     "output_type": "stream",
     "text": [
      " 45%|████▌     | 9007/20000 [03:17<03:53, 47.08it/s]"
     ]
    },
    {
     "name": "stdout",
     "output_type": "stream",
     "text": [
      "Iteration:9000, Avg. Loss: -0.6533798575401306\n"
     ]
    },
    {
     "name": "stderr",
     "output_type": "stream",
     "text": [
      " 50%|█████     | 10007/20000 [03:39<03:31, 47.29it/s]"
     ]
    },
    {
     "name": "stdout",
     "output_type": "stream",
     "text": [
      "Iteration:10000, Avg. Loss: 0.06122007220983505\n"
     ]
    },
    {
     "name": "stderr",
     "output_type": "stream",
     "text": [
      " 55%|█████▌    | 11007/20000 [04:01<03:20, 44.76it/s]"
     ]
    },
    {
     "name": "stdout",
     "output_type": "stream",
     "text": [
      "Iteration:11000, Avg. Loss: -13.93775749206543\n"
     ]
    },
    {
     "name": "stderr",
     "output_type": "stream",
     "text": [
      " 60%|██████    | 12007/20000 [04:23<02:56, 45.35it/s]"
     ]
    },
    {
     "name": "stdout",
     "output_type": "stream",
     "text": [
      "Iteration:12000, Avg. Loss: -1.793757438659668\n"
     ]
    },
    {
     "name": "stderr",
     "output_type": "stream",
     "text": [
      " 65%|██████▌   | 13007/20000 [04:45<02:39, 43.82it/s]"
     ]
    },
    {
     "name": "stdout",
     "output_type": "stream",
     "text": [
      "Iteration:13000, Avg. Loss: -0.31599199771881104\n"
     ]
    },
    {
     "name": "stderr",
     "output_type": "stream",
     "text": [
      " 70%|███████   | 14007/20000 [05:07<02:11, 45.51it/s]"
     ]
    },
    {
     "name": "stdout",
     "output_type": "stream",
     "text": [
      "Iteration:14000, Avg. Loss: -0.042092084884643555\n"
     ]
    },
    {
     "name": "stderr",
     "output_type": "stream",
     "text": [
      " 75%|███████▌  | 15009/20000 [05:29<01:50, 45.06it/s]"
     ]
    },
    {
     "name": "stdout",
     "output_type": "stream",
     "text": [
      "Iteration:15000, Avg. Loss: -32.26402282714844\n"
     ]
    },
    {
     "name": "stderr",
     "output_type": "stream",
     "text": [
      " 80%|████████  | 16005/20000 [05:51<01:27, 45.50it/s]"
     ]
    },
    {
     "name": "stdout",
     "output_type": "stream",
     "text": [
      "Iteration:16000, Avg. Loss: 0.043938785791397095\n"
     ]
    },
    {
     "name": "stderr",
     "output_type": "stream",
     "text": [
      " 85%|████████▌ | 17010/20000 [06:13<01:06, 45.13it/s]"
     ]
    },
    {
     "name": "stdout",
     "output_type": "stream",
     "text": [
      "Iteration:17000, Avg. Loss: 0.33323389291763306\n"
     ]
    },
    {
     "name": "stderr",
     "output_type": "stream",
     "text": [
      " 90%|█████████ | 18006/20000 [06:35<00:44, 44.70it/s]"
     ]
    },
    {
     "name": "stdout",
     "output_type": "stream",
     "text": [
      "Iteration:18000, Avg. Loss: 0.07471241056919098\n"
     ]
    },
    {
     "name": "stderr",
     "output_type": "stream",
     "text": [
      " 95%|█████████▌| 19008/20000 [06:57<00:21, 46.25it/s]"
     ]
    },
    {
     "name": "stdout",
     "output_type": "stream",
     "text": [
      "Iteration:19000, Avg. Loss: 0.030525654554367065\n"
     ]
    },
    {
     "name": "stderr",
     "output_type": "stream",
     "text": [
      "100%|██████████| 20000/20000 [07:18<00:00, 45.56it/s]\n"
     ]
    },
    {
     "name": "stdout",
     "output_type": "stream",
     "text": [
      "Iteration result: -0.8095313310623169\n",
      "lower_constraints\n"
     ]
    },
    {
     "name": "stderr",
     "output_type": "stream",
     "text": [
      "  5%|▌         | 1001/20000 [03:54<1:14:57,  4.22it/s]"
     ]
    },
    {
     "name": "stdout",
     "output_type": "stream",
     "text": [
      "Iteration:1000, Avg. Loss: 0.008734302595257759\n"
     ]
    },
    {
     "name": "stderr",
     "output_type": "stream",
     "text": [
      " 10%|█         | 2001/20000 [07:48<1:10:16,  4.27it/s]"
     ]
    },
    {
     "name": "stdout",
     "output_type": "stream",
     "text": [
      "Iteration:2000, Avg. Loss: 0.005624349229037762\n"
     ]
    },
    {
     "name": "stderr",
     "output_type": "stream",
     "text": [
      " 15%|█▌        | 3001/20000 [11:43<1:06:13,  4.28it/s]"
     ]
    },
    {
     "name": "stdout",
     "output_type": "stream",
     "text": [
      "Iteration:3000, Avg. Loss: -0.03831113502383232\n"
     ]
    },
    {
     "name": "stderr",
     "output_type": "stream",
     "text": [
      " 20%|██        | 4001/20000 [15:37<1:02:23,  4.27it/s]"
     ]
    },
    {
     "name": "stdout",
     "output_type": "stream",
     "text": [
      "Iteration:4000, Avg. Loss: -0.12246488034725189\n"
     ]
    },
    {
     "name": "stderr",
     "output_type": "stream",
     "text": [
      " 25%|██▌       | 5001/20000 [19:32<57:39,  4.34it/s]  "
     ]
    },
    {
     "name": "stdout",
     "output_type": "stream",
     "text": [
      "Iteration:5000, Avg. Loss: -0.03790326789021492\n"
     ]
    },
    {
     "name": "stderr",
     "output_type": "stream",
     "text": [
      " 30%|███       | 6001/20000 [23:27<54:29,  4.28it/s]  "
     ]
    },
    {
     "name": "stdout",
     "output_type": "stream",
     "text": [
      "Iteration:6000, Avg. Loss: -0.20986421406269073\n"
     ]
    },
    {
     "name": "stderr",
     "output_type": "stream",
     "text": [
      " 35%|███▌      | 7001/20000 [27:22<50:16,  4.31it/s]  "
     ]
    },
    {
     "name": "stdout",
     "output_type": "stream",
     "text": [
      "Iteration:7000, Avg. Loss: 0.01724671572446823\n"
     ]
    },
    {
     "name": "stderr",
     "output_type": "stream",
     "text": [
      " 40%|████      | 8001/20000 [31:17<46:10,  4.33it/s]"
     ]
    },
    {
     "name": "stdout",
     "output_type": "stream",
     "text": [
      "Iteration:8000, Avg. Loss: -0.002875068224966526\n"
     ]
    },
    {
     "name": "stderr",
     "output_type": "stream",
     "text": [
      " 45%|████▌     | 9001/20000 [35:12<42:53,  4.27it/s]"
     ]
    },
    {
     "name": "stdout",
     "output_type": "stream",
     "text": [
      "Iteration:9000, Avg. Loss: 0.019982382655143738\n"
     ]
    },
    {
     "name": "stderr",
     "output_type": "stream",
     "text": [
      " 50%|█████     | 10001/20000 [39:07<38:49,  4.29it/s]"
     ]
    },
    {
     "name": "stdout",
     "output_type": "stream",
     "text": [
      "Iteration:10000, Avg. Loss: -0.06682804226875305\n"
     ]
    },
    {
     "name": "stderr",
     "output_type": "stream",
     "text": [
      " 55%|█████▌    | 11001/20000 [43:02<35:03,  4.28it/s]"
     ]
    },
    {
     "name": "stdout",
     "output_type": "stream",
     "text": [
      "Iteration:11000, Avg. Loss: -0.08870362490415573\n"
     ]
    },
    {
     "name": "stderr",
     "output_type": "stream",
     "text": [
      " 60%|██████    | 12001/20000 [46:57<31:18,  4.26it/s]"
     ]
    },
    {
     "name": "stdout",
     "output_type": "stream",
     "text": [
      "Iteration:12000, Avg. Loss: 0.01673002913594246\n"
     ]
    },
    {
     "name": "stderr",
     "output_type": "stream",
     "text": [
      " 65%|██████▌   | 13001/20000 [50:52<26:53,  4.34it/s]"
     ]
    },
    {
     "name": "stdout",
     "output_type": "stream",
     "text": [
      "Iteration:13000, Avg. Loss: 0.05379254370927811\n"
     ]
    },
    {
     "name": "stderr",
     "output_type": "stream",
     "text": [
      " 70%|███████   | 14001/20000 [54:47<23:43,  4.21it/s]"
     ]
    },
    {
     "name": "stdout",
     "output_type": "stream",
     "text": [
      "Iteration:14000, Avg. Loss: 0.034896016120910645\n"
     ]
    },
    {
     "name": "stderr",
     "output_type": "stream",
     "text": [
      " 75%|███████▌  | 15001/20000 [58:43<19:36,  4.25it/s]"
     ]
    },
    {
     "name": "stdout",
     "output_type": "stream",
     "text": [
      "Iteration:15000, Avg. Loss: 0.009319216012954712\n"
     ]
    },
    {
     "name": "stderr",
     "output_type": "stream",
     "text": [
      " 80%|████████  | 16001/20000 [1:02:38<15:44,  4.23it/s]"
     ]
    },
    {
     "name": "stdout",
     "output_type": "stream",
     "text": [
      "Iteration:16000, Avg. Loss: 0.04795359820127487\n"
     ]
    },
    {
     "name": "stderr",
     "output_type": "stream",
     "text": [
      " 85%|████████▌ | 17001/20000 [1:06:34<11:46,  4.25it/s]"
     ]
    },
    {
     "name": "stdout",
     "output_type": "stream",
     "text": [
      "Iteration:17000, Avg. Loss: 0.05326332896947861\n"
     ]
    },
    {
     "name": "stderr",
     "output_type": "stream",
     "text": [
      " 90%|█████████ | 18001/20000 [1:10:30<07:44,  4.30it/s]"
     ]
    },
    {
     "name": "stdout",
     "output_type": "stream",
     "text": [
      "Iteration:18000, Avg. Loss: 0.05430661141872406\n"
     ]
    },
    {
     "name": "stderr",
     "output_type": "stream",
     "text": [
      " 95%|█████████▌| 19001/20000 [1:14:26<03:52,  4.30it/s]"
     ]
    },
    {
     "name": "stdout",
     "output_type": "stream",
     "text": [
      "Iteration:19000, Avg. Loss: 0.07207386195659637\n"
     ]
    },
    {
     "name": "stderr",
     "output_type": "stream",
     "text": [
      "100%|██████████| 20000/20000 [1:18:21<00:00,  4.25it/s]\n"
     ]
    },
    {
     "name": "stdout",
     "output_type": "stream",
     "text": [
      "Iteration result: 0.1676618754863739\n",
      "lower_FH\n"
     ]
    },
    {
     "name": "stderr",
     "output_type": "stream",
     "text": [
      "  5%|▌         | 1011/20000 [00:16<04:58, 63.64it/s]"
     ]
    },
    {
     "name": "stdout",
     "output_type": "stream",
     "text": [
      "Iteration:1000, Avg. Loss: -0.1718541383743286\n"
     ]
    },
    {
     "name": "stderr",
     "output_type": "stream",
     "text": [
      " 10%|█         | 2010/20000 [00:31<04:43, 63.45it/s]"
     ]
    },
    {
     "name": "stdout",
     "output_type": "stream",
     "text": [
      "Iteration:2000, Avg. Loss: -0.029532212764024734\n"
     ]
    },
    {
     "name": "stderr",
     "output_type": "stream",
     "text": [
      " 15%|█▌        | 3008/20000 [00:47<04:24, 64.28it/s]"
     ]
    },
    {
     "name": "stdout",
     "output_type": "stream",
     "text": [
      "Iteration:3000, Avg. Loss: -1.5360379219055176\n"
     ]
    },
    {
     "name": "stderr",
     "output_type": "stream",
     "text": [
      " 20%|██        | 4011/20000 [01:03<04:10, 63.80it/s]"
     ]
    },
    {
     "name": "stdout",
     "output_type": "stream",
     "text": [
      "Iteration:4000, Avg. Loss: 0.008483405224978924\n"
     ]
    },
    {
     "name": "stderr",
     "output_type": "stream",
     "text": [
      " 25%|██▌       | 5009/20000 [01:19<04:02, 61.81it/s]"
     ]
    },
    {
     "name": "stdout",
     "output_type": "stream",
     "text": [
      "Iteration:5000, Avg. Loss: -0.14701947569847107\n"
     ]
    },
    {
     "name": "stderr",
     "output_type": "stream",
     "text": [
      " 30%|███       | 6007/20000 [01:35<03:45, 62.01it/s]"
     ]
    },
    {
     "name": "stdout",
     "output_type": "stream",
     "text": [
      "Iteration:6000, Avg. Loss: 0.01331772655248642\n"
     ]
    },
    {
     "name": "stderr",
     "output_type": "stream",
     "text": [
      " 35%|███▌      | 7008/20000 [01:51<03:22, 64.18it/s]"
     ]
    },
    {
     "name": "stdout",
     "output_type": "stream",
     "text": [
      "Iteration:7000, Avg. Loss: 0.000773625448346138\n"
     ]
    },
    {
     "name": "stderr",
     "output_type": "stream",
     "text": [
      " 40%|████      | 8007/20000 [02:07<03:12, 62.26it/s]"
     ]
    },
    {
     "name": "stdout",
     "output_type": "stream",
     "text": [
      "Iteration:8000, Avg. Loss: 0.05820532888174057\n"
     ]
    },
    {
     "name": "stderr",
     "output_type": "stream",
     "text": [
      " 45%|████▌     | 9010/20000 [02:23<02:50, 64.41it/s]"
     ]
    },
    {
     "name": "stdout",
     "output_type": "stream",
     "text": [
      "Iteration:9000, Avg. Loss: 0.09792543947696686\n"
     ]
    },
    {
     "name": "stderr",
     "output_type": "stream",
     "text": [
      " 50%|█████     | 10008/20000 [02:39<02:40, 62.24it/s]"
     ]
    },
    {
     "name": "stdout",
     "output_type": "stream",
     "text": [
      "Iteration:10000, Avg. Loss: 0.060866862535476685\n"
     ]
    },
    {
     "name": "stderr",
     "output_type": "stream",
     "text": [
      " 55%|█████▌    | 11009/20000 [02:55<02:19, 64.28it/s]"
     ]
    },
    {
     "name": "stdout",
     "output_type": "stream",
     "text": [
      "Iteration:11000, Avg. Loss: 0.04761868715286255\n"
     ]
    },
    {
     "name": "stderr",
     "output_type": "stream",
     "text": [
      " 60%|██████    | 12012/20000 [03:11<02:06, 63.24it/s]"
     ]
    },
    {
     "name": "stdout",
     "output_type": "stream",
     "text": [
      "Iteration:12000, Avg. Loss: 0.0971188098192215\n"
     ]
    },
    {
     "name": "stderr",
     "output_type": "stream",
     "text": [
      " 65%|██████▌   | 13009/20000 [03:27<01:48, 64.20it/s]"
     ]
    },
    {
     "name": "stdout",
     "output_type": "stream",
     "text": [
      "Iteration:13000, Avg. Loss: 0.16269470751285553\n"
     ]
    },
    {
     "name": "stderr",
     "output_type": "stream",
     "text": [
      " 70%|███████   | 14011/20000 [03:43<01:46, 56.28it/s]"
     ]
    },
    {
     "name": "stdout",
     "output_type": "stream",
     "text": [
      "Iteration:14000, Avg. Loss: 0.05016464740037918\n"
     ]
    },
    {
     "name": "stderr",
     "output_type": "stream",
     "text": [
      " 75%|███████▌  | 15009/20000 [03:59<01:20, 62.26it/s]"
     ]
    },
    {
     "name": "stdout",
     "output_type": "stream",
     "text": [
      "Iteration:15000, Avg. Loss: 0.12763315439224243\n"
     ]
    },
    {
     "name": "stderr",
     "output_type": "stream",
     "text": [
      " 80%|████████  | 16005/20000 [04:15<01:04, 62.33it/s]"
     ]
    },
    {
     "name": "stdout",
     "output_type": "stream",
     "text": [
      "Iteration:16000, Avg. Loss: 0.15301671624183655\n"
     ]
    },
    {
     "name": "stderr",
     "output_type": "stream",
     "text": [
      " 85%|████████▌ | 17006/20000 [04:31<00:48, 62.11it/s]"
     ]
    },
    {
     "name": "stdout",
     "output_type": "stream",
     "text": [
      "Iteration:17000, Avg. Loss: 0.17158733308315277\n"
     ]
    },
    {
     "name": "stderr",
     "output_type": "stream",
     "text": [
      " 90%|█████████ | 18012/20000 [04:47<00:30, 64.42it/s]"
     ]
    },
    {
     "name": "stdout",
     "output_type": "stream",
     "text": [
      "Iteration:18000, Avg. Loss: 0.09602978080511093\n"
     ]
    },
    {
     "name": "stderr",
     "output_type": "stream",
     "text": [
      " 95%|█████████▌| 19008/20000 [05:03<00:15, 62.63it/s]"
     ]
    },
    {
     "name": "stdout",
     "output_type": "stream",
     "text": [
      "Iteration:19000, Avg. Loss: 0.18360894918441772\n"
     ]
    },
    {
     "name": "stderr",
     "output_type": "stream",
     "text": [
      "100%|██████████| 20000/20000 [05:19<00:00, 62.69it/s]"
     ]
    },
    {
     "name": "stdout",
     "output_type": "stream",
     "text": [
      "Iteration result: 0.046216338872909546\n"
     ]
    },
    {
     "name": "stderr",
     "output_type": "stream",
     "text": [
      "\n"
     ]
    }
   ],
   "source": [
    "numbers_discrete = 7# Amount of discretization points for the plot\n",
    "max_iter = 20000 # Amount of overall interations\n",
    "inner_iter = 10 # Amount of inner interations\n",
    "\n",
    "Nr_Strike = 0 # To count computations\n",
    "\n",
    "for K in np.linspace(4,11,numbers_discrete):\n",
    "    Nr_Strike += 1\n",
    "    def payoff(x_1t1,x_2t1,x_3t1,x_1t2,x_2t2,x_3t2):\n",
    "        return (tf.nn.relu(tf.reduce_min([x_1t1,x_2t1,x_3t1,x_1t2,x_2t2,x_3t2],0)-K))\n",
    "    #Display the strike\n",
    "    print(K)\n",
    "    lower_FH = []\n",
    "    upper_FH = []\n",
    "    lower_constraints_MG = []\n",
    "    upper_constraints_MG = []\n",
    "    lower_constraints = []\n",
    "    upper_constraints = []\n",
    "    lower_MG = []\n",
    "    upper_MG = []\n",
    "    \n",
    "    print(\"upper_FH\") \n",
    "    upper_FH.append(compute_bound(payoff,log_norm1_t1,log_norm2_t1,log_norm3_t1,\n",
    "                                              log_norm1_t2,log_norm2_t2,log_norm3_t2,\n",
    "                                                    lower_bound=False,martingale = False,\n",
    "                                              inner_iter = inner_iter,max_iter = max_iter)[0])    \n",
    "    print(\"upper_constraints\")\n",
    "    upper_constraints.append(compute_bound(payoff,log_norm1_t1,log_norm2_t1,log_norm3_t1,\n",
    "                                              log_norm1_t2,log_norm2_t2,log_norm3_t2,\n",
    "                                                    lower_bound=False,martingale = False,\n",
    "                                           copula_payoffs=payoffs_allargs,copula_prices=prices,\n",
    "                                              inner_iter = inner_iter,max_iter = max_iter)[0])\n",
    "    print(\"upper_MG\")\n",
    "    upper_MG.append(compute_bound(payoff,log_norm1_t1,log_norm2_t1,log_norm3_t1,\n",
    "                                              log_norm1_t2,log_norm2_t2,log_norm3_t2,\n",
    "                                                    lower_bound=False,martingale = True,\n",
    "                                              inner_iter = inner_iter,max_iter = max_iter)[0])\n",
    "\n",
    "\n",
    "    print(\"upper_constraints_MG\")\n",
    "    upper_constraints_MG.append(compute_bound(payoff,log_norm1_t1,log_norm2_t1,log_norm3_t1,\n",
    "                                              log_norm1_t2,log_norm2_t2,log_norm3_t2,\n",
    "                                                    lower_bound=False,\n",
    "                                                    copula_payoffs=payoffs_allargs,copula_prices=prices,\n",
    "                                              inner_iter = inner_iter,max_iter = max_iter)[0])\n",
    "\n",
    "    print(\"lower_constraints_MG\")\n",
    "    lower_constraints_MG.append(compute_bound(payoff,log_norm1_t1,log_norm2_t1,log_norm3_t1,\n",
    "                                              log_norm1_t2,log_norm2_t2,log_norm3_t2,\n",
    "                                                    lower_bound=True,\n",
    "                                                    copula_payoffs=payoffs_allargs,copula_prices=prices,\n",
    "                                              inner_iter = inner_iter,max_iter = max_iter)[0])\n",
    "    print(\"lower_MG\")\n",
    "    lower_MG.append(compute_bound(payoff,log_norm1_t1,log_norm2_t1,log_norm3_t1,\n",
    "                                              log_norm1_t2,log_norm2_t2,log_norm3_t2,\n",
    "                                                    lower_bound=True,martingale = True,\n",
    "                                              inner_iter = inner_iter,max_iter = max_iter)[0])\n",
    "    print(\"lower_constraints\")\n",
    "    lower_constraints.append(compute_bound(payoff,log_norm1_t1,log_norm2_t1,log_norm3_t1,\n",
    "                                              log_norm1_t2,log_norm2_t2,log_norm3_t2,\n",
    "                                                    lower_bound=True,martingale = False,\n",
    "                                           copula_payoffs=payoffs_allargs,copula_prices=prices,\n",
    "                                              inner_iter = inner_iter,max_iter = max_iter)[0])\n",
    "    print(\"lower_FH\")\n",
    "    lower_FH.append(compute_bound(payoff,log_norm1_t1,log_norm2_t1,log_norm3_t1,\n",
    "                                              log_norm1_t2,log_norm2_t2,log_norm3_t2,\n",
    "                                                    lower_bound=True,martingale = False,\n",
    "                                              inner_iter = inner_iter,max_iter = max_iter)[0])\n",
    "    df = pd.DataFrame([upper_constraints_MG,upper_MG,upper_constraints,upper_FH,\n",
    "                       lower_constraints_MG,lower_MG,lower_constraints,lower_FH])\n",
    "    df.to_csv(\"./qc_\"+str(Nr_Strike)+\"_new.csv\", sep=',',index=False)\n"
   ]
  }
 ],
 "metadata": {
  "accelerator": "GPU",
  "colab": {
   "collapsed_sections": [],
   "name": "Example-QuasiCopula-BlackScholes - NN.ipynb",
   "provenance": []
  },
  "kernelspec": {
   "display_name": "Python 3",
   "language": "python",
   "name": "python3"
  },
  "language_info": {
   "codemirror_mode": {
    "name": "ipython",
    "version": 3
   },
   "file_extension": ".py",
   "mimetype": "text/x-python",
   "name": "python",
   "nbconvert_exporter": "python",
   "pygments_lexer": "ipython3",
   "version": "3.7.9"
  }
 },
 "nbformat": 4,
 "nbformat_minor": 1
}
